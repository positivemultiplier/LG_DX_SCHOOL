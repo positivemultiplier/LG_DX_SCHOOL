{
 "cells": [
  {
   "cell_type": "code",
   "execution_count": 2,
   "id": "83092709",
   "metadata": {},
   "outputs": [],
   "source": [
    "import pandas as pd"
   ]
  },
  {
   "cell_type": "code",
   "execution_count": 3,
   "id": "f4efafd1",
   "metadata": {},
   "outputs": [],
   "source": [
    "# 1. 데이터셋 \n",
    "ages = [0, 2, 10, 15, 21, 23, 37, 61, 20, 41, 100, 32]"
   ]
  },
  {
   "cell_type": "code",
   "execution_count": 4,
   "id": "d4d8956d",
   "metadata": {},
   "outputs": [],
   "source": [
    "# 0~10 => 미성년자\n",
    "# 20~35 => 청년\n",
    "# 36~ 60=> 중년\n",
    "# 61~ 100 => 노년\n",
    "\n"
   ]
  },
  {
   "cell_type": "code",
   "execution_count": 5,
   "id": "cbe61367",
   "metadata": {},
   "outputs": [],
   "source": [
    "# 2. 범주\n",
    "# 왼쪽 값은 포함되지 않음, 오른쪽 값은 포함\n",
    "# 0 < x <= 10\n",
    "bins = [ 0, 19, 35, 60, 100]"
   ]
  },
  {
   "cell_type": "code",
   "execution_count": 6,
   "id": "f3a24ced",
   "metadata": {},
   "outputs": [],
   "source": [
    "# 3. 라벨정의 \n",
    "lab = [\"미성년자\", \"청년\", \"중년\", \"노년\"]"
   ]
  },
  {
   "cell_type": "code",
   "execution_count": 7,
   "id": "053b771e",
   "metadata": {},
   "outputs": [
    {
     "data": {
      "text/plain": [
       "[NaN, '미성년자', '미성년자', '미성년자', '청년', ..., '노년', '청년', '중년', '노년', '청년']\n",
       "Length: 12\n",
       "Categories (4, object): ['미성년자' < '청년' < '중년' < '노년']"
      ]
     },
     "execution_count": 7,
     "metadata": {},
     "output_type": "execute_result"
    }
   ],
   "source": [
    "# 시리즈 형식으로 나눠보고싶다. \n",
    "# step1. .cut() => 연속적인 데이털르 구간으로 나누는데 사용되는 함수 => 딕셔너리 형식으로 생성했었다. \n",
    "c = pd.cut(ages, bins, labels = lab)\n",
    "c\n",
    "# 0세는 nan으로 나타나버리네 \n",
    "# 10세는 미성년자로 나타난다."
   ]
  },
  {
   "cell_type": "markdown",
   "id": "9b23cf20",
   "metadata": {},
   "source": [
    "- [ages 데이터들의 카테고리화된 각각의 결과들]\n",
    "- length : 데이터의 길이(개수)\n",
    "- categories : 카테고리의 개수"
   ]
  },
  {
   "cell_type": "code",
   "execution_count": 8,
   "id": "f594f666",
   "metadata": {},
   "outputs": [
    {
     "data": {
      "text/html": [
       "<div>\n",
       "<style scoped>\n",
       "    .dataframe tbody tr th:only-of-type {\n",
       "        vertical-align: middle;\n",
       "    }\n",
       "\n",
       "    .dataframe tbody tr th {\n",
       "        vertical-align: top;\n",
       "    }\n",
       "\n",
       "    .dataframe thead th {\n",
       "        text-align: right;\n",
       "    }\n",
       "</style>\n",
       "<table border=\"1\" class=\"dataframe\">\n",
       "  <thead>\n",
       "    <tr style=\"text-align: right;\">\n",
       "      <th></th>\n",
       "      <th>ages</th>\n",
       "    </tr>\n",
       "  </thead>\n",
       "  <tbody>\n",
       "    <tr>\n",
       "      <th>0</th>\n",
       "      <td>0</td>\n",
       "    </tr>\n",
       "    <tr>\n",
       "      <th>1</th>\n",
       "      <td>2</td>\n",
       "    </tr>\n",
       "    <tr>\n",
       "      <th>2</th>\n",
       "      <td>10</td>\n",
       "    </tr>\n",
       "    <tr>\n",
       "      <th>3</th>\n",
       "      <td>15</td>\n",
       "    </tr>\n",
       "    <tr>\n",
       "      <th>4</th>\n",
       "      <td>21</td>\n",
       "    </tr>\n",
       "    <tr>\n",
       "      <th>5</th>\n",
       "      <td>23</td>\n",
       "    </tr>\n",
       "    <tr>\n",
       "      <th>6</th>\n",
       "      <td>37</td>\n",
       "    </tr>\n",
       "    <tr>\n",
       "      <th>7</th>\n",
       "      <td>61</td>\n",
       "    </tr>\n",
       "    <tr>\n",
       "      <th>8</th>\n",
       "      <td>20</td>\n",
       "    </tr>\n",
       "    <tr>\n",
       "      <th>9</th>\n",
       "      <td>41</td>\n",
       "    </tr>\n",
       "    <tr>\n",
       "      <th>10</th>\n",
       "      <td>100</td>\n",
       "    </tr>\n",
       "    <tr>\n",
       "      <th>11</th>\n",
       "      <td>32</td>\n",
       "    </tr>\n",
       "  </tbody>\n",
       "</table>\n",
       "</div>"
      ],
      "text/plain": [
       "    ages\n",
       "0      0\n",
       "1      2\n",
       "2     10\n",
       "3     15\n",
       "4     21\n",
       "5     23\n",
       "6     37\n",
       "7     61\n",
       "8     20\n",
       "9     41\n",
       "10   100\n",
       "11    32"
      ]
     },
     "execution_count": 8,
     "metadata": {},
     "output_type": "execute_result"
    }
   ],
   "source": [
    "# ages 데이터를 가지고 데이터 프레임 생성 => 리스트 형식을 생성하겠다. \n",
    "age_df = pd.DataFrame(ages, columns= [\"ages\"]) \n",
    "age_df\n"
   ]
  },
  {
   "cell_type": "code",
   "execution_count": 9,
   "id": "4215f967",
   "metadata": {},
   "outputs": [
    {
     "data": {
      "text/html": [
       "<div>\n",
       "<style scoped>\n",
       "    .dataframe tbody tr th:only-of-type {\n",
       "        vertical-align: middle;\n",
       "    }\n",
       "\n",
       "    .dataframe tbody tr th {\n",
       "        vertical-align: top;\n",
       "    }\n",
       "\n",
       "    .dataframe thead th {\n",
       "        text-align: right;\n",
       "    }\n",
       "</style>\n",
       "<table border=\"1\" class=\"dataframe\">\n",
       "  <thead>\n",
       "    <tr style=\"text-align: right;\">\n",
       "      <th></th>\n",
       "      <th>ages</th>\n",
       "      <th>카테고리</th>\n",
       "    </tr>\n",
       "  </thead>\n",
       "  <tbody>\n",
       "    <tr>\n",
       "      <th>0</th>\n",
       "      <td>0</td>\n",
       "      <td>NaN</td>\n",
       "    </tr>\n",
       "    <tr>\n",
       "      <th>1</th>\n",
       "      <td>2</td>\n",
       "      <td>미성년자</td>\n",
       "    </tr>\n",
       "    <tr>\n",
       "      <th>2</th>\n",
       "      <td>10</td>\n",
       "      <td>미성년자</td>\n",
       "    </tr>\n",
       "    <tr>\n",
       "      <th>3</th>\n",
       "      <td>15</td>\n",
       "      <td>미성년자</td>\n",
       "    </tr>\n",
       "    <tr>\n",
       "      <th>4</th>\n",
       "      <td>21</td>\n",
       "      <td>청년</td>\n",
       "    </tr>\n",
       "    <tr>\n",
       "      <th>5</th>\n",
       "      <td>23</td>\n",
       "      <td>청년</td>\n",
       "    </tr>\n",
       "    <tr>\n",
       "      <th>6</th>\n",
       "      <td>37</td>\n",
       "      <td>중년</td>\n",
       "    </tr>\n",
       "    <tr>\n",
       "      <th>7</th>\n",
       "      <td>61</td>\n",
       "      <td>노년</td>\n",
       "    </tr>\n",
       "    <tr>\n",
       "      <th>8</th>\n",
       "      <td>20</td>\n",
       "      <td>청년</td>\n",
       "    </tr>\n",
       "    <tr>\n",
       "      <th>9</th>\n",
       "      <td>41</td>\n",
       "      <td>중년</td>\n",
       "    </tr>\n",
       "    <tr>\n",
       "      <th>10</th>\n",
       "      <td>100</td>\n",
       "      <td>노년</td>\n",
       "    </tr>\n",
       "    <tr>\n",
       "      <th>11</th>\n",
       "      <td>32</td>\n",
       "      <td>청년</td>\n",
       "    </tr>\n",
       "  </tbody>\n",
       "</table>\n",
       "</div>"
      ],
      "text/plain": [
       "    ages  카테고리\n",
       "0      0   NaN\n",
       "1      2  미성년자\n",
       "2     10  미성년자\n",
       "3     15  미성년자\n",
       "4     21    청년\n",
       "5     23    청년\n",
       "6     37    중년\n",
       "7     61    노년\n",
       "8     20    청년\n",
       "9     41    중년\n",
       "10   100    노년\n",
       "11    32    청년"
      ]
     },
     "execution_count": 9,
     "metadata": {},
     "output_type": "execute_result"
    }
   ],
   "source": [
    "# 자동 append 되어비리는 데이터 프레임에 카테고리 컬럼 추가\n",
    "age_df[\"카테고리\"] = c\n",
    "age_df"
   ]
  },
  {
   "cell_type": "code",
   "execution_count": 10,
   "id": "361b3ba5",
   "metadata": {},
   "outputs": [
    {
     "data": {
      "text/plain": [
       "카테고리\n",
       "청년      4\n",
       "미성년자    3\n",
       "중년      2\n",
       "노년      2\n",
       "Name: count, dtype: int64"
      ]
     },
     "execution_count": 10,
     "metadata": {},
     "output_type": "execute_result"
    }
   ],
   "source": [
    "# 카테고리컬한 데이터를 파악할때 용이한 함수 => Value_counts()\n",
    "# 각 카테고리 값이 나온 횟수를 세어주는 기능\n",
    "age_df[\"카테고리\"].value_counts()\n",
    "# 카테고리화 되어있는 것을 활용하는방법.\n",
    "# 몇명인지 "
   ]
  }
 ],
 "metadata": {
  "kernelspec": {
   "display_name": "Python 3",
   "language": "python",
   "name": "python3"
  },
  "language_info": {
   "codemirror_mode": {
    "name": "ipython",
    "version": 3
   },
   "file_extension": ".py",
   "mimetype": "text/x-python",
   "name": "python",
   "nbconvert_exporter": "python",
   "pygments_lexer": "ipython3",
   "version": "3.13.5"
  }
 },
 "nbformat": 4,
 "nbformat_minor": 5
}
