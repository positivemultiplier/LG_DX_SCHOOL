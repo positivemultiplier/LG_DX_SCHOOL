{
 "cells": [
  {
   "cell_type": "code",
   "execution_count": null,
   "id": "b8de9b76",
   "metadata": {},
   "outputs": [],
   "source": [
    "from selenium import webdriver as wd\n",
    "from selenium.webdriver.common.by import By\n",
    "from selenium.webdriver.common.keys import Keys\n",
    "import undetected_chromedriver as uc\n",
    "import time\n"
   ]
  },
  {
   "cell_type": "code",
   "execution_count": 5,
   "id": "d75171fa",
   "metadata": {},
   "outputs": [
    {
     "ename": "NameError",
     "evalue": "name 'uc' is not defined",
     "output_type": "error",
     "traceback": [
      "\u001b[31m---------------------------------------------------------------------------\u001b[39m",
      "\u001b[31mNameError\u001b[39m                                 Traceback (most recent call last)",
      "\u001b[36mCell\u001b[39m\u001b[36m \u001b[39m\u001b[32mIn[5]\u001b[39m\u001b[32m, line 1\u001b[39m\n\u001b[32m----> \u001b[39m\u001b[32m1\u001b[39m driver = \u001b[43muc\u001b[49m.Chrome()\n\u001b[32m      2\u001b[39m driver.get(\u001b[33m\"\u001b[39m\u001b[33mhttps://www.gmarket.co.kr/n/best\u001b[39m\u001b[33m\"\u001b[39m)\n\u001b[32m      4\u001b[39m \u001b[38;5;66;03m# 팝업창을 나오는경우 예외처리 해야한다.\u001b[39;00m\n\u001b[32m      5\u001b[39m \u001b[38;5;66;03m# try : \u001b[39;00m\n\u001b[32m      6\u001b[39m \u001b[38;5;66;03m#     driver.find_element(By.CSS_SELECTOR, \"#__next > div:nth-child(4) > div.box__system-popup.box__system-banner.box__system-popup--active > div > div.box__popup-title > button\")\u001b[39;00m\n\u001b[32m   (...)\u001b[39m\u001b[32m     10\u001b[39m \u001b[38;5;66;03m# 😤복수형의 아이템 리스를찾아와야 한다. \u001b[39;00m\n\u001b[32m     11\u001b[39m \u001b[38;5;66;03m# item = driver.find_element(By.CSS_SELECTOR, \"#container > div.box__best-list > ul > li:nth-child(1) > a\")\u001b[39;00m\n",
      "\u001b[31mNameError\u001b[39m: name 'uc' is not defined"
     ]
    }
   ],
   "source": [
    "driver = uc.Chrome()\n",
    "driver.get(\"https://www.gmarket.co.kr/n/best\")\n",
    "\n",
    "# 팝업창을 나오는경우 예외처리 해야한다.\n",
    "# try : \n",
    "#     driver.find_element(By.CSS_SELECTOR, \"#__next > div:nth-child(4) > div.box__system-popup.box__system-banner.box__system-popup--active > div > div.box__popup-title > button\")\n",
    "# except:  \n",
    "#     print(\"팝업창 없음\")   \n",
    "\n",
    "# 😤복수형의 아이템 리스를찾아와야 한다. \n",
    "# item = driver.find_element(By.CSS_SELECTOR, \"#container > div.box__best-list > ul > li:nth-child(1) > a\")\n",
    "item = driver.find_elements(By.CSS_SELECTOR, \"#container > div.box__best-list > ul > li > a\")\n",
    "\n",
    "# 😤복수형의 아이템 리스를찾아와야 한다. \n",
    "# item.click()\n",
    "item[0].click()\n",
    "time.sleep(0.5)\n",
    "\n",
    "item_title = driver.find_element(By.CSS_SELECTOR, \"#itemcase_basic > div > div.box__item-info > h1\")\n",
    "\n",
    "item_price = driver.find_element(By.CSS_SELECTOR, \"#itemcase_basic > div > div.box__price.price > span.price_innerwrap.price_innerwrap-coupon > strong\")\n",
    "\n",
    "print(item_title.text)\n",
    "print(item_price.text)\n",
    "\n",
    "driver.back()\n",
    "time.sleep(0.5)\n",
    "\n"
   ]
  },
  {
   "cell_type": "code",
   "execution_count": 17,
   "id": "fd9a8ac2",
   "metadata": {},
   "outputs": [
    {
     "name": "stdout",
     "output_type": "stream",
     "text": [
      "팝업창이 없습니다. \n",
      "['순수크린 과탄산소다 5kg 버킷+스푼1개 증정 외 베이킹소다 버킷 모음전']\n",
      "['10,430원']\n",
      "팝업창이 없습니다. \n",
      "['순수크린 과탄산소다 5kg 버킷+스푼1개 증정 외 베이킹소다 버킷 모음전', '순수크린 과탄산소다 5kg 버킷+스푼1개 증정 외 베이킹소다 버킷 모음전']\n",
      "['10,430원', '10,430원']\n",
      "팝업창이 없습니다. \n",
      "['순수크린 과탄산소다 5kg 버킷+스푼1개 증정 외 베이킹소다 버킷 모음전', '순수크린 과탄산소다 5kg 버킷+스푼1개 증정 외 베이킹소다 버킷 모음전', '순수크린 과탄산소다 5kg 버킷+스푼1개 증정 외 베이킹소다 버킷 모음전']\n",
      "['10,430원', '10,430원', '10,430원']\n",
      "팝업창이 없습니다. \n",
      "['순수크린 과탄산소다 5kg 버킷+스푼1개 증정 외 베이킹소다 버킷 모음전', '순수크린 과탄산소다 5kg 버킷+스푼1개 증정 외 베이킹소다 버킷 모음전', '순수크린 과탄산소다 5kg 버킷+스푼1개 증정 외 베이킹소다 버킷 모음전', '순수크린 과탄산소다 5kg 버킷+스푼1개 증정 외 베이킹소다 버킷 모음전']\n",
      "['10,430원', '10,430원', '10,430원', '10,430원']\n",
      "팝업창이 없습니다. \n",
      "['순수크린 과탄산소다 5kg 버킷+스푼1개 증정 외 베이킹소다 버킷 모음전', '순수크린 과탄산소다 5kg 버킷+스푼1개 증정 외 베이킹소다 버킷 모음전', '순수크린 과탄산소다 5kg 버킷+스푼1개 증정 외 베이킹소다 버킷 모음전', '순수크린 과탄산소다 5kg 버킷+스푼1개 증정 외 베이킹소다 버킷 모음전', '순수크린 과탄산소다 5kg 버킷+스푼1개 증정 외 베이킹소다 버킷 모음전']\n",
      "['10,430원', '10,430원', '10,430원', '10,430원', '10,430원']\n",
      "팝업창이 없습니다. \n",
      "['순수크린 과탄산소다 5kg 버킷+스푼1개 증정 외 베이킹소다 버킷 모음전', '순수크린 과탄산소다 5kg 버킷+스푼1개 증정 외 베이킹소다 버킷 모음전', '순수크린 과탄산소다 5kg 버킷+스푼1개 증정 외 베이킹소다 버킷 모음전', '순수크린 과탄산소다 5kg 버킷+스푼1개 증정 외 베이킹소다 버킷 모음전', '순수크린 과탄산소다 5kg 버킷+스푼1개 증정 외 베이킹소다 버킷 모음전', '순수크린 과탄산소다 5kg 버킷+스푼1개 증정 외 베이킹소다 버킷 모음전']\n",
      "['10,430원', '10,430원', '10,430원', '10,430원', '10,430원', '10,430원']\n",
      "팝업창이 없습니다. \n",
      "['순수크린 과탄산소다 5kg 버킷+스푼1개 증정 외 베이킹소다 버킷 모음전', '순수크린 과탄산소다 5kg 버킷+스푼1개 증정 외 베이킹소다 버킷 모음전', '순수크린 과탄산소다 5kg 버킷+스푼1개 증정 외 베이킹소다 버킷 모음전', '순수크린 과탄산소다 5kg 버킷+스푼1개 증정 외 베이킹소다 버킷 모음전', '순수크린 과탄산소다 5kg 버킷+스푼1개 증정 외 베이킹소다 버킷 모음전', '순수크린 과탄산소다 5kg 버킷+스푼1개 증정 외 베이킹소다 버킷 모음전', '순수크린 과탄산소다 5kg 버킷+스푼1개 증정 외 베이킹소다 버킷 모음전']\n",
      "['10,430원', '10,430원', '10,430원', '10,430원', '10,430원', '10,430원', '10,430원']\n",
      "팝업창이 없습니다. \n",
      "['순수크린 과탄산소다 5kg 버킷+스푼1개 증정 외 베이킹소다 버킷 모음전', '순수크린 과탄산소다 5kg 버킷+스푼1개 증정 외 베이킹소다 버킷 모음전', '순수크린 과탄산소다 5kg 버킷+스푼1개 증정 외 베이킹소다 버킷 모음전', '순수크린 과탄산소다 5kg 버킷+스푼1개 증정 외 베이킹소다 버킷 모음전', '순수크린 과탄산소다 5kg 버킷+스푼1개 증정 외 베이킹소다 버킷 모음전', '순수크린 과탄산소다 5kg 버킷+스푼1개 증정 외 베이킹소다 버킷 모음전', '순수크린 과탄산소다 5kg 버킷+스푼1개 증정 외 베이킹소다 버킷 모음전', '순수크린 과탄산소다 5kg 버킷+스푼1개 증정 외 베이킹소다 버킷 모음전']\n",
      "['10,430원', '10,430원', '10,430원', '10,430원', '10,430원', '10,430원', '10,430원', '10,430원']\n",
      "팝업창이 없습니다. \n",
      "['순수크린 과탄산소다 5kg 버킷+스푼1개 증정 외 베이킹소다 버킷 모음전', '순수크린 과탄산소다 5kg 버킷+스푼1개 증정 외 베이킹소다 버킷 모음전', '순수크린 과탄산소다 5kg 버킷+스푼1개 증정 외 베이킹소다 버킷 모음전', '순수크린 과탄산소다 5kg 버킷+스푼1개 증정 외 베이킹소다 버킷 모음전', '순수크린 과탄산소다 5kg 버킷+스푼1개 증정 외 베이킹소다 버킷 모음전', '순수크린 과탄산소다 5kg 버킷+스푼1개 증정 외 베이킹소다 버킷 모음전', '순수크린 과탄산소다 5kg 버킷+스푼1개 증정 외 베이킹소다 버킷 모음전', '순수크린 과탄산소다 5kg 버킷+스푼1개 증정 외 베이킹소다 버킷 모음전', '순수크린 과탄산소다 5kg 버킷+스푼1개 증정 외 베이킹소다 버킷 모음전']\n",
      "['10,430원', '10,430원', '10,430원', '10,430원', '10,430원', '10,430원', '10,430원', '10,430원', '10,430원']\n",
      "팝업창이 없습니다. \n",
      "['순수크린 과탄산소다 5kg 버킷+스푼1개 증정 외 베이킹소다 버킷 모음전', '순수크린 과탄산소다 5kg 버킷+스푼1개 증정 외 베이킹소다 버킷 모음전', '순수크린 과탄산소다 5kg 버킷+스푼1개 증정 외 베이킹소다 버킷 모음전', '순수크린 과탄산소다 5kg 버킷+스푼1개 증정 외 베이킹소다 버킷 모음전', '순수크린 과탄산소다 5kg 버킷+스푼1개 증정 외 베이킹소다 버킷 모음전', '순수크린 과탄산소다 5kg 버킷+스푼1개 증정 외 베이킹소다 버킷 모음전', '순수크린 과탄산소다 5kg 버킷+스푼1개 증정 외 베이킹소다 버킷 모음전', '순수크린 과탄산소다 5kg 버킷+스푼1개 증정 외 베이킹소다 버킷 모음전', '순수크린 과탄산소다 5kg 버킷+스푼1개 증정 외 베이킹소다 버킷 모음전', '순수크린 과탄산소다 5kg 버킷+스푼1개 증정 외 베이킹소다 버킷 모음전']\n",
      "['10,430원', '10,430원', '10,430원', '10,430원', '10,430원', '10,430원', '10,430원', '10,430원', '10,430원', '10,430원']\n"
     ]
    }
   ],
   "source": [
    "driver = uc.Chrome()\n",
    "driver.get(\"https://www.gmarket.co.kr/n/best\")\n",
    "\n",
    "\n",
    "\n",
    "item_title_list = []\n",
    "item_price_list = []\n",
    "\n",
    "for i in range(10) :\n",
    "    item = driver.find_elements(By.CSS_SELECTOR, \"#container > div.box__best-list > ul > li > a\")\n",
    "    item[0].click()\n",
    "    time.sleep(0.5)\n",
    "\n",
    "    try:\n",
    "        popup_btn = driver.find_element(By.CSS_SELECTOR,\"#__next > div:nth-child(4) > div.box__system-popup.box__system-banner.box__system-popup--active > div > div.box__popup-title > button\" )\n",
    "    except:\n",
    "        print(\"팝업창이 없습니다. \")\n",
    "    item_title = driver.find_element(By.CSS_SELECTOR, \"#itemcase_basic > div > div.box__item-info > h1\")\n",
    "    \n",
    "\n",
    "    try :\n",
    "        item_price = driver.find_element(By.CSS_SELECTOR, \"#itemcase_basic > div > div.box__price.price > span.price_innerwrap.price_innerwrap-coupon > strong\")\n",
    "    except :\n",
    "        item_price = driver.find_element(By.CSS_SELECTOR,\"#itemcase_basic > div > div.box__price.price > span:nth-child(3) > strong\" )\n",
    "    \n",
    "    \n",
    "    item_title_list.append(item_title.text)\n",
    "    item_price_list.append(item_price.text)\n",
    "    print(item_title_list)\n",
    "    print(item_price_list)\n",
    "\n",
    "    driver.back()\n",
    "    time.sleep(0.5)\n"
   ]
  }
 ],
 "metadata": {
  "kernelspec": {
   "display_name": "Python 3",
   "language": "python",
   "name": "python3"
  },
  "language_info": {
   "codemirror_mode": {
    "name": "ipython",
    "version": 3
   },
   "file_extension": ".py",
   "mimetype": "text/x-python",
   "name": "python",
   "nbconvert_exporter": "python",
   "pygments_lexer": "ipython3",
   "version": "3.13.5"
  }
 },
 "nbformat": 4,
 "nbformat_minor": 5
}
