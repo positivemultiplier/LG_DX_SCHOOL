{
 "cells": [
  {
   "cell_type": "markdown",
   "id": "ef7ecc80-8d57-4755-b24a-32f77f87cc36",
   "metadata": {},
   "source": [
    "## 리스트 자료형\n",
    "###  list(리스트)의 특징은?\n",
    "- 파이썬의 자료구조 형태중 하나\n",
    "- 순서가 있는 수정가능한 객체의 집합\n",
    "- 대괄호( [])로 작성되어지며, 리스트 내부의 값은 콤마( , )으로 구분\n",
    "- 하나의 리스트에 다양한 자료형 포함\n",
    "- 추가, 수정, 삭제 가능\n",
    "\n",
    "### tuple(튜플)의 특징은?\n",
    "- 파이썬의 자료구조 형태 중 하나\n",
    "- 순서가 있는 집합\n",
    "- 소괄호 () 로 작성되어지며, 튜플의 내부 값은 콤마(,)으로 구분\n",
    "- 하나의 튜플에 다양한 자료형 포함\n",
    "- 추가, 수정, 삭제 **불가능**\n",
    "\n",
    "\n",
    "### 공통점\n",
    "- 타입과 상관없이 일련의 요소(Element)를 갖을 수 있다.\n",
    "- 요소의 순서를 관리한다.\n",
    "\n",
    "### 차이점\n",
    "- 리스트는 가변적(mutable)이며, 튜플은 불변적(immutable)\n",
    "- 리스트는 요소가 몇 개 들어갈지 명확하지 않은 경우에 사용\n",
    "- 튜플은 요소 개수를 사전에 정확히 알고 있을 경우에 사용"
   ]
  },
  {
   "cell_type": "markdown",
   "id": "76b18869-b279-443c-8201-620de675baef",
   "metadata": {},
   "source": [
    "### List(리스트)"
   ]
  },
  {
   "cell_type": "code",
   "execution_count": 19,
   "id": "a4ab5661-4485-4de3-8df8-8b27bcef8eb2",
   "metadata": {},
   "outputs": [
    {
     "name": "stdout",
     "output_type": "stream",
     "text": [
      "[]\n",
      "[1, 2, 3]\n",
      "['a', 'b', 'c']\n",
      "[1, 2, '김도연']\n",
      "[[1, '손지원'], [2, '임예희'], [3, '정민지']]\n"
     ]
    }
   ],
   "source": [
    "# 정의하기\n",
    "a = [] # 빈리스트 \n",
    "b = [1, 2, 3] # 숫자 자료형을 담은 리스트\n",
    "c = ['a', 'b', 'c'] \n",
    "name = ['김도연', '김인옥', '박민정'] # 문자열 자료형을 담은 리스트\n",
    "d = [1,2,'김도연'] # 3개의 요소, 다양한 자료형을 담은 리스트\n",
    "e = [[1,'손지원'],[2,'임예희'],[3,'정민지']]\n",
    "\n",
    "print(a)\n",
    "print(b)\n",
    "print(c)\n",
    "print(d)\n",
    "print(e)"
   ]
  },
  {
   "cell_type": "markdown",
   "id": "3e3e3717-af90-4c61-aa88-4565a3e5b859",
   "metadata": {},
   "source": [
    "- 리스트 데이터 접근(indexing, slicing)"
   ]
  },
  {
   "cell_type": "code",
   "execution_count": 2,
   "id": "31995a5c-dddd-4b7b-b9c6-7bb5cce2905a",
   "metadata": {},
   "outputs": [
    {
     "name": "stdout",
     "output_type": "stream",
     "text": [
      "안\n",
      ".\n"
     ]
    }
   ],
   "source": [
    "# 인덱싱: 무엇인가를 가리키는 것(요소 1개 선택)\n",
    "# 슬라이싱: 무엇인가를 잘라내는 것(요소 여러개를 선택)\n",
    "\n",
    "str1 = \"안녕하세요.\"\n",
    "print(str1[0])\n",
    "print(str1[-1]) # == str1[5]\n"
   ]
  },
  {
   "cell_type": "code",
   "execution_count": 3,
   "id": "af7c1f38-1c13-4d8a-8994-7adad98957d9",
   "metadata": {},
   "outputs": [
    {
     "name": "stdout",
     "output_type": "stream",
     "text": [
      "김도연\n"
     ]
    },
    {
     "data": {
      "text/plain": [
       "'김도연'"
      ]
     },
     "execution_count": 3,
     "metadata": {},
     "output_type": "execute_result"
    }
   ],
   "source": [
    "print(d[2])\n",
    "d[2]\n"
   ]
  },
  {
   "cell_type": "code",
   "execution_count": 4,
   "id": "d99718da-da46-4121-9e7d-b2086a18a73f",
   "metadata": {},
   "outputs": [
    {
     "name": "stdout",
     "output_type": "stream",
     "text": [
      "[1, 2]\n",
      "[1, 2, '김도연']\n"
     ]
    }
   ],
   "source": [
    "# 어디부텉 어디까지 >> :(콜론)\n",
    "# 대상[시작index: 끝 index +1]\n",
    "# d 리스트에 있는 1,2 데이터 슬라이싱하기\n",
    "\n",
    "print(d[0:2]) # 리스트 출력\n",
    "print(d[0:3])"
   ]
  },
  {
   "cell_type": "code",
   "execution_count": null,
   "id": "c2c34548-ae2f-444e-bb9f-bd6c5cd0aa52",
   "metadata": {},
   "outputs": [
    {
     "name": "stdout",
     "output_type": "stream",
     "text": [
      "<class 'list'>\n",
      "3\n",
      "[3, '정민지']\n",
      "정민지\n"
     ]
    }
   ],
   "source": [
    "# e 출력\n",
    "print(type(e))\n",
    "# e  요소 3개 들어 있음, 리스트 길이 3\n",
    "print(len(e))\n",
    "\n",
    "# 마지막 요소 접근하기\n",
    "print(e[2]) #[-1]\n",
    "\n",
    "print(e[2][1])"
   ]
  },
  {
   "cell_type": "code",
   "execution_count": 6,
   "id": "a037b361-c696-431c-9193-81de7194054d",
   "metadata": {},
   "outputs": [
    {
     "name": "stdout",
     "output_type": "stream",
     "text": [
      "1\n",
      "2\n",
      "3\n",
      "손지원\n",
      "임예희\n",
      "정민지\n"
     ]
    }
   ],
   "source": [
    "# 임예희 번호 접근하기\n",
    "\n",
    "print(e[0][0]) # 손지원의 번호 \n",
    "print(e[1][0]) # 임예희의 번호\n",
    "print(e[2][0]) # 정민지의 번호\n",
    "\n",
    "# 각 사람의 이름 출력\n",
    "print(e[0][1]) # 손지원의 이름 \n",
    "print(e[1][1]) # 임예희의 이름\n",
    "print(e[2][1]) # 정민지의 이름\n",
    "\n",
    "# 추후 \n"
   ]
  },
  {
   "cell_type": "code",
   "execution_count": 20,
   "id": "1863576a-989b-4733-a075-17fe4284a8e4",
   "metadata": {},
   "outputs": [
    {
     "name": "stdout",
     "output_type": "stream",
     "text": [
      "[[1, '손지원'], [2, '임예희'], [3, '정민지'], [[4, '이진헌'], [5, '서희창']]]\n"
     ]
    }
   ],
   "source": [
    "# 추가함수 append()\n",
    "e.append([[4,'이진헌'],[5,'서희창']])\n",
    "print(e)"
   ]
  },
  {
   "cell_type": "code",
   "execution_count": 14,
   "id": "fabbda11-60f1-4fa2-9bc9-3c9d35aa15f2",
   "metadata": {},
   "outputs": [
    {
     "name": "stdout",
     "output_type": "stream",
     "text": [
      "[[1, '손지원'], [2, '임예희'], [3, '정민지'], [[4, '이진헌'], [5, '서희창']], [[4, '이진헌']]]\n"
     ]
    }
   ],
   "source": [
    "e[4].remove([5,'서희창'])\n",
    "print(e)"
   ]
  },
  {
   "cell_type": "code",
   "execution_count": null,
   "id": "241894de-3c00-4cf5-af20-affa1cafeddf",
   "metadata": {},
   "outputs": [
    {
     "data": {
      "text/plain": [
       "[[1, '손지원'],\n",
       " [2, '임예희'],\n",
       " [3, '정민지'],\n",
       " [[4, '이진헌']],\n",
       " [[4, '이진헌']],\n",
       " [[4, '이진헌'], [5, '서희창']],\n",
       " [[4, '이진헌'], [5, '서희창']],\n",
       " [[4, '이진헌'], [5, '서희창']],\n",
       " [[4, '이진헌'], [5, '서희창']],\n",
       " [[4, '이진헌'], [5, '서희창']],\n",
       " [[4, '이진헌'], [5, '서희창']],\n",
       " [[4, '이진헌'], [5, '서희창']],\n",
       " [[4, '이진헌'], [5, '서희창']]]"
      ]
     },
     "execution_count": 212,
     "metadata": {},
     "output_type": "execute_result"
    }
   ],
   "source": [
    "e"
   ]
  },
  {
   "cell_type": "code",
   "execution_count": 16,
   "id": "96001efe-3683-40ee-97cf-f46fa65b3a51",
   "metadata": {},
   "outputs": [
    {
     "name": "stdout",
     "output_type": "stream",
     "text": [
      "hello world\n"
     ]
    }
   ],
   "source": [
    "print(e)"
   ]
  },
  {
   "cell_type": "code",
   "execution_count": 25,
   "id": "2b5e4e91-ea02-4dc2-8b0f-8c959c02712a",
   "metadata": {},
   "outputs": [
    {
     "name": "stdout",
     "output_type": "stream",
     "text": [
      "[[1, '손지원'], [2, '임예희']]\n"
     ]
    }
   ],
   "source": [
    "e.pop()\n",
    "print(e)"
   ]
  },
  {
   "cell_type": "markdown",
   "id": "9864631c-0ec8-4f02-a8c8-5dff4f3b8f27",
   "metadata": {},
   "source": [
    "- 리스트 정렬하는 기능"
   ]
  },
  {
   "cell_type": "code",
   "execution_count": 23,
   "id": "a8214937-bafc-441b-9001-5ebf1453d30a",
   "metadata": {},
   "outputs": [
    {
     "name": "stdout",
     "output_type": "stream",
     "text": [
      "[9, 13, 50, 68, 77, 100]\n",
      "[100, 77, 68, 50, 13, 9]\n"
     ]
    }
   ],
   "source": [
    "lst1 = [9, 77, 13, 50, 100, 68]\n",
    "lst1.sort()\n",
    "print(lst1) # 오름차순 정렬 default  \n",
    "lst1.reverse() # 리버스정렬  reverse\n",
    "print(lst1)\n"
   ]
  },
  {
   "cell_type": "markdown",
   "id": "48382044-2a68-44ef-999e-8cb41b88af92",
   "metadata": {},
   "source": [
    "- 리스트 값 위치 변환: 찾고자 하는 값의 위치를 반환\n"
   ]
  },
  {
   "cell_type": "code",
   "execution_count": null,
   "id": "e9072713-1365-4b60-84be-a99ec6d9d29d",
   "metadata": {},
   "outputs": [
    {
     "data": {
      "text/plain": [
       "3"
      ]
     },
     "execution_count": 191,
     "metadata": {},
     "output_type": "execute_result"
    }
   ],
   "source": [
    "# 50 요소가 몇번째 인덱스에 있는지 확인\n",
    "lst1.index(50) # 3 인덱스에 위치한 데이터!"
   ]
  },
  {
   "cell_type": "markdown",
   "id": "85f6a3bb-9a16-47ba-9e99-633a239ac43b",
   "metadata": {},
   "source": [
    "- 리스트 연결\n"
   ]
  },
  {
   "cell_type": "code",
   "execution_count": null,
   "id": "782b9cea-f4ae-4ba2-a1dc-13f6bdaa03c0",
   "metadata": {},
   "outputs": [
    {
     "name": "stdout",
     "output_type": "stream",
     "text": [
      "[1, 2, 3]\n",
      "['a', 'b', 'c']\n",
      "[1, 2, 3, 'a', 'b', 'c']\n"
     ]
    }
   ],
   "source": [
    "print(b)\n",
    "print(c)\n",
    "b_c = b + c\n",
    "print(b_c)"
   ]
  },
  {
   "cell_type": "markdown",
   "id": "530a9959-79b3-4fa1-905d-8f1c16cda161",
   "metadata": {},
   "source": [
    "### tuple(튜플)\n",
    "- 수정이 불가능한 자료구조\n",
    "- 데이터 접근(조회)만 가능!"
   ]
  },
  {
   "cell_type": "code",
   "execution_count": 22,
   "id": "68def353-1274-4a02-86af-1f62e78d0b56",
   "metadata": {},
   "outputs": [
    {
     "name": "stdout",
     "output_type": "stream",
     "text": [
      "()\n",
      "(1, 2, 3)\n",
      "('심수진', '제윤아', '이지영')\n",
      "(1, 2, '손지영')\n",
      "((1, '심수진'), (2, '제윤아'), (3, '이지영'))\n"
     ]
    }
   ],
   "source": [
    "t_a = () # 빈 튜플\n",
    "t_b = (1, 2, 3) # 숫자형을 담은 튜플\n",
    "t_c = ('심수진', '제윤아', '이지영') # 문자형을 담은 튜플\n",
    "t_d = (1, 2, '손지영') # 다양한 자료형을 담은 튜플\n",
    "t_e = ((1, '심수진'), (2, '제윤아'), (3, '이지영'))\n",
    "\n",
    "print(t_a)\n",
    "print(t_b)\n",
    "print(t_c)\n",
    "print(t_d)\n",
    "print(t_e)\n"
   ]
  },
  {
   "cell_type": "code",
   "execution_count": null,
   "id": "6c51bbdf-c74e-4076-9319-9aee6e8a42a4",
   "metadata": {},
   "outputs": [
    {
     "name": "stdout",
     "output_type": "stream",
     "text": [
      "[1, 2, '김도현']\n"
     ]
    }
   ],
   "source": [
    "# 수정불가능 객체(자료구조)\n",
    "# t_e[0][1] = '김수진' # 대입 변경 불가능하다 \n",
    "# t_e.append((4,'박성화'))\n",
    "\n",
    "d[2] = '김도현'\n",
    "print(d)"
   ]
  },
  {
   "cell_type": "markdown",
   "id": "98f6ad2e-4079-4d4c-9e9d-f6c712aa82ba",
   "metadata": {},
   "source": [
    "### 실습예제\n",
    "- 리스트 생성\n",
    "- 값을 찾기\n",
    "- 값을 삭제하는 예제"
   ]
  },
  {
   "cell_type": "code",
   "execution_count": 27,
   "id": "0824cdeb-fd2f-4f45-8908-f72f198297a6",
   "metadata": {},
   "outputs": [],
   "source": [
    "movie = ['닥터 스트레인지', '스플릿', '럭키']"
   ]
  },
  {
   "cell_type": "code",
   "execution_count": 28,
   "id": "60eb66f6-12ec-4d6f-a096-6c444c5f1891",
   "metadata": {},
   "outputs": [
    {
     "name": "stdout",
     "output_type": "stream",
     "text": [
      "['닥터 스트레인지', '스플릿', '럭키', '럭키']\n"
     ]
    }
   ],
   "source": [
    "# 2. '배트맨' 영화 맨 뒤에 추가하기\n",
    "movie.append('럭키')\n",
    "# movie.append([['배트맨'],['슈퍼맨']])\n",
    "print(movie)"
   ]
  },
  {
   "cell_type": "code",
   "execution_count": 29,
   "id": "e596c1a6-9b1f-4cce-b840-753c9205b691",
   "metadata": {},
   "outputs": [
    {
     "name": "stdout",
     "output_type": "stream",
     "text": [
      "['닥터 스트레인지', '스플릿', '럭키']\n",
      "['닥터 스트레인지', '스플릿', '럭키']\n"
     ]
    }
   ],
   "source": [
    "# 3. 리스트에서 '럭키'를 삭제하기\n",
    "\n",
    "movie.remove('럭키')\n",
    "print(movie)\n",
    "\n",
    "\n",
    "# movie[3].remove(['슈퍼맨'])\n",
    "print(movie)\n"
   ]
  },
  {
   "cell_type": "code",
   "execution_count": 37,
   "id": "1aa46a97-9457-4a3e-b686-481afe2c4ce2",
   "metadata": {},
   "outputs": [
    {
     "name": "stdout",
     "output_type": "stream",
     "text": [
      "존재하지 않습니다\n"
     ]
    }
   ],
   "source": [
    "try:\n",
    "    lst = ['딸기', '바나나', '수박', '체리', '포도']\n",
    "    search_context = input('검색할 문자를 입력하세요: ')\n",
    "\n",
    "    true = lst.index(search_context)\n",
    "    print(f\"찾으시는 index 번호는 : {true} 입니다\")\n",
    "# false = list.index(search_context\n",
    "                       \n",
    "# true if search_context == list else false\n",
    "except : \n",
    "    print(\"존재하지 않습니다\")"
   ]
  }
 ],
 "metadata": {
  "kernelspec": {
   "display_name": "Python 3",
   "language": "python",
   "name": "python3"
  },
  "language_info": {
   "codemirror_mode": {
    "name": "ipython",
    "version": 3
   },
   "file_extension": ".py",
   "mimetype": "text/x-python",
   "name": "python",
   "nbconvert_exporter": "python",
   "pygments_lexer": "ipython3",
   "version": "3.13.5"
  }
 },
 "nbformat": 4,
 "nbformat_minor": 5
}
