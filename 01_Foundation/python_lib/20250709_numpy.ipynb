{
 "cells": [
  {
   "cell_type": "markdown",
   "id": "8a811376",
   "metadata": {},
   "source": [
    "# 📚 Python 모듈과 NumPy 완전 정복\n",
    "\n",
    "## 📖 학습 목표\n",
    "- Python 모듈, 패키지, 라이브러리의 개념 이해\n",
    "- NumPy 라이브러리의 기본 사용법 익히기\n",
    "- 배열 생성, 조작, 인덱싱 방법 학습\n",
    "- 실제 데이터를 활용한 BMI 계산 실습\n",
    "\n",
    "```mermaid\n",
    "graph TD\n",
    "    A[Python 모듈 개념] --> B[NumPy 기초]\n",
    "    B --> C[배열 생성 및 조작]\n",
    "    C --> D[인덱싱과 슬라이싱]\n",
    "    D --> E[실제 데이터 활용]\n",
    "```"
   ]
  },
  {
   "cell_type": "markdown",
   "id": "fbd42e55",
   "metadata": {},
   "source": [
    "## 🧩 1. Python 모듈의 이해\n",
    "\n",
    "### 모듈이란?\n",
    "- **모듈(Module)**: 변수나 함수 또는 클래스를 모아 놓은 파일 (.py 확장자)\n",
    "- **패키지(Package)**: 모듈이 여러개 들어있는 폴더\n",
    "- **라이브러리(Library)**: 모듈 + 패키지 여러개 들어있는 도구의 모음\n",
    "\n",
    "```mermaid\n",
    "graph TD\n",
    "    A[라이브러리] --> B[패키지1]\n",
    "    A --> C[패키지2]\n",
    "    B --> D[모듈1.py]\n",
    "    B --> E[모듈2.py]\n",
    "    C --> F[모듈3.py]\n",
    "    C --> G[모듈4.py]\n",
    "```\n",
    "\n",
    "### 📋 비유로 이해하기\n",
    "- **모듈**: 서류 한 장 (하나의 .py 파일)\n",
    "- **패키지**: 보고서 하나 (여러 서류가 모인 폴더)\n",
    "- **라이브러리**: 보고서가 모여있는 책장 (여러 도구의 모음)"
   ]
  },
  {
   "cell_type": "code",
   "execution_count": 1,
   "id": "4ad3a013",
   "metadata": {},
   "outputs": [
    {
     "name": "stdout",
     "output_type": "stream",
     "text": [
      "원주율: 3.141592653589793\n",
      "2의 제곱근: 1.4142135623730951\n"
     ]
    }
   ],
   "source": [
    "# 모듈 import 예시\n",
    "# import module\n",
    "# module.cal_add(4,7)  # 덧셈 함수 호출\n",
    "# module.cal_sub(6,1)  # 뺄셈 함수 호출\n",
    "\n",
    "# 실제로는 다음과 같이 사용합니다\n",
    "import math\n",
    "print(f\"원주율: {math.pi}\")\n",
    "print(f\"2의 제곱근: {math.sqrt(2)}\")"
   ]
  },
  {
   "cell_type": "markdown",
   "id": "fe0ae6c0",
   "metadata": {},
   "source": [
    "## 📊 2. 데이터 분석 라이브러리 소개\n",
    "\n",
    "### 주요 라이브러리들\n",
    "- **NumPy**: 고성능 과학계산을 위한 데이터 분석 라이브러리\n",
    "- **Pandas**: 행과 열로 구성된 표 형식의 데이터를 지원하는 라이브러리\n",
    "- **Matplotlib**: 2D 그래프로 시각화가 가능한 라이브러리\n",
    "\n",
    "```mermaid\n",
    "pie title 데이터 분석 라이브러리 역할\n",
    "    \"NumPy (수치계산)\" : 40\n",
    "    \"Pandas (데이터처리)\" : 35\n",
    "    \"Matplotlib (시각화)\" : 25\n",
    "```\n",
    "\n",
    "### 📈 빅데이터 처리 과정\n",
    "**저장 → 관리 → 추출 → 처리 → 시각화 → 분석**"
   ]
  },
  {
   "cell_type": "markdown",
   "id": "57245c67",
   "metadata": {},
   "source": [
    "## 🔢 3. NumPy 기초 이해하기\n",
    "\n",
    "### NumPy란?\n",
    "- **Numerical Python**의 약자\n",
    "- 파이썬의 수치해석용 라이브러리\n",
    "- 리스트와 비슷하지만 **완전히 다른 성질**을 가짐\n",
    "- 빠르고 효율적인 산술 연산 제공\n",
    "- **다차원 배열(n-dimensional array)** 지원\n",
    "\n",
    "### 🎯 NumPy vs 일반 리스트\n",
    "```mermaid\n",
    "graph LR\n",
    "    A[일반 리스트] --> B[연결 시 결합]\n",
    "    C[NumPy 배열] --> D[연결 시 원소별 연산]\n",
    "    \n",
    "    B --> E[\"[1,2] + [3,4] = [1,2,3,4]\"]\n",
    "    D --> F[\"[1,2] + [3,4] = [4,6]\"]\n",
    "```"
   ]
  },
  {
   "cell_type": "code",
   "execution_count": 2,
   "id": "f886cf1f",
   "metadata": {},
   "outputs": [
    {
     "name": "stdout",
     "output_type": "stream",
     "text": [
      "일반 리스트: [1, 2, 3, 4, 5]\n",
      "리스트 타입: <class 'list'>\n",
      "NumPy 배열: [1 2 3 4 5]\n",
      "배열 타입: <class 'numpy.ndarray'>\n"
     ]
    }
   ],
   "source": [
    "# NumPy 설치 및 import\n",
    "# !pip install numpy  # 필요한 경우에만 실행\n",
    "import numpy as np\n",
    "\n",
    "# 일반 리스트 생성\n",
    "list1 = [1, 2, 3, 4, 5]\n",
    "print(f\"일반 리스트: {list1}\")\n",
    "print(f\"리스트 타입: {type(list1)}\")\n",
    "\n",
    "# NumPy 배열 생성\n",
    "arr1 = np.array(list1)\n",
    "print(f\"NumPy 배열: {arr1}\")\n",
    "print(f\"배열 타입: {type(arr1)}\")"
   ]
  },
  {
   "cell_type": "code",
   "execution_count": 3,
   "id": "4a04a15f",
   "metadata": {},
   "outputs": [
    {
     "name": "stdout",
     "output_type": "stream",
     "text": [
      "=== 리스트 vs NumPy 배열 비교 ===\n",
      "리스트 + 리스트: [1, 2, 3, 4, 5, 1, 2, 3, 4, 5]\n",
      "배열 + 배열: [ 2  4  6  8 10]\n",
      "배열 + 10: [11 12 13 14 15]\n",
      "배열 * 2: [ 2  4  6  8 10]\n",
      "배열 ** 2: [ 1  4  9 16 25]\n"
     ]
    }
   ],
   "source": [
    "# 리스트 vs NumPy 배열의 차이점 비교\n",
    "print(\"=== 리스트 vs NumPy 배열 비교 ===\")\n",
    "print(f\"리스트 + 리스트: {list1 + list1}\")\n",
    "print(f\"배열 + 배열: {arr1 + arr1}\")\n",
    "print(f\"배열 + 10: {arr1 + 10}\")\n",
    "print(f\"배열 * 2: {arr1 * 2}\")\n",
    "print(f\"배열 ** 2: {arr1 ** 2}\")"
   ]
  },
  {
   "cell_type": "markdown",
   "id": "2e789b1b",
   "metadata": {},
   "source": [
    "## 📐 4. 다차원 배열의 이해\n",
    "\n",
    "### 배열의 차원\n",
    "- **1차원**: 일렬로 나열된 데이터 `[1, 2, 3, 4, 5]`\n",
    "- **2차원**: 행과 열로 구성된 표 형태 `[[1,2], [3,4]]`\n",
    "- **3차원**: 깊이가 추가된 형태 (이미지, 동영상 등)\n",
    "\n",
    "### 🎯 중요한 차원 표기법\n",
    "- **일반 통계학**: `[행(row), 열(column), 깊이(depth)]`\n",
    "- **NumPy**: `[깊이(depth), 행(row), 열(column)]`"
   ]
  },
  {
   "cell_type": "code",
   "execution_count": 4,
   "id": "b744d5de",
   "metadata": {},
   "outputs": [
    {
     "name": "stdout",
     "output_type": "stream",
     "text": [
      "2차원 배열:\n",
      "[[ 1  2  3  4  5]\n",
      " [ 6  7  8  9 10]]\n",
      "배열 타입: <class 'numpy.ndarray'>\n"
     ]
    }
   ],
   "source": [
    "# 2차원 배열 생성 - 각 차원에서 동일한 크기와 구조를 가져야 함\n",
    "list2 = [[1, 2, 3, 4, 5], [6, 7, 8, 9, 10]]\n",
    "arr2 = np.array(list2)\n",
    "print(f\"2차원 배열:\\n{arr2}\")\n",
    "print(f\"배열 타입: {type(arr2)}\")"
   ]
  },
  {
   "cell_type": "markdown",
   "id": "7e4fcdca",
   "metadata": {},
   "source": [
    "## 🔍 5. 배열 속성 확인하기\n",
    "\n",
    "### 주요 속성들\n",
    "- **`.shape`**: 배열의 크기 (행, 열)\n",
    "- **`.ndim`**: 배열의 차원 수\n",
    "- **`.size`**: 전체 요소 개수\n",
    "- **`.dtype`**: 데이터 타입\n",
    "\n",
    "```mermaid\n",
    "graph TD\n",
    "    A[배열 속성] --> B[shape: 크기]\n",
    "    A --> C[ndim: 차원]\n",
    "    A --> D[size: 요소수]\n",
    "    A --> E[dtype: 타입]\n",
    "```"
   ]
  },
  {
   "cell_type": "code",
   "execution_count": 5,
   "id": "5ee9a70b",
   "metadata": {},
   "outputs": [
    {
     "name": "stdout",
     "output_type": "stream",
     "text": [
      "=== 1차원 배열 속성 ===\n",
      "arr1.shape: (5,)\n",
      "arr1.ndim: 1\n",
      "arr1.size: 5\n",
      "arr1.dtype: int64\n",
      "\n",
      "=== 2차원 배열 속성 ===\n",
      "arr2.shape: (2, 5)\n",
      "arr2.ndim: 2\n",
      "arr2.size: 10\n",
      "arr2.dtype: int64\n"
     ]
    }
   ],
   "source": [
    "# 배열 속성 확인하기\n",
    "print(\"=== 1차원 배열 속성 ===\")\n",
    "print(f\"arr1.shape: {arr1.shape}\")\n",
    "print(f\"arr1.ndim: {arr1.ndim}\")\n",
    "print(f\"arr1.size: {arr1.size}\")\n",
    "print(f\"arr1.dtype: {arr1.dtype}\")\n",
    "\n",
    "print(\"\\n=== 2차원 배열 속성 ===\")\n",
    "print(f\"arr2.shape: {arr2.shape}\")\n",
    "print(f\"arr2.ndim: {arr2.ndim}\")\n",
    "print(f\"arr2.size: {arr2.size}\")\n",
    "print(f\"arr2.dtype: {arr2.dtype}\")"
   ]
  },
  {
   "cell_type": "code",
   "execution_count": null,
   "id": "bc12179d",
   "metadata": {},
   "outputs": [],
   "source": [
    "# 데이터 타입 변경하기\n",
    "arr1_int8 = np.array([1, 2, 3, 4, 5], dtype=np.int8)\n",
    "print(f\"int8 타입: {arr1_int8.dtype}\")\n",
    "\n",
    "arr1_int64 = arr1_int8.astype(\"int64\")\n",
    "print(f\"int64로 변경: {arr1_int64.dtype}\")\n",
    "\n",
    "arr1_float = arr1_int8.astype(\"float32\")\n",
    "print(f\"float32로 변경: {arr1_float.dtype}\")"
   ]
  },
  {
   "cell_type": "markdown",
   "id": "c63aa863",
   "metadata": {},
   "source": [
    "## 🛠️ 6. 배열 생성 함수들\n",
    "\n",
    "### np.arange() 함수\n",
    "- **for문과 range()** 함수와 동일한 방식\n",
    "- `np.arange(start, stop, step)`\n",
    "- 연속된 숫자 배열을 쉽게 생성\n",
    "\n",
    "### 배열 모양 변경: reshape()\n",
    "- 배열의 차원과 크기를 변경\n",
    "- `arr.reshape(행, 열)`"
   ]
  },
  {
   "cell_type": "code",
   "execution_count": 6,
   "id": "d85cf23c",
   "metadata": {},
   "outputs": [
    {
     "name": "stdout",
     "output_type": "stream",
     "text": [
      "=== 전통적인 방법 (for문 사용) ===\n",
      "for문으로 생성: [1, 2, 3, 4, 5, 6, 7, 8, 9, 10]...\n",
      "\n",
      "=== NumPy 방법 (arange 사용) ===\n",
      "arange로 생성: [ 1  2  3  4  5  6  7  8  9 10]...\n",
      "배열 크기: (50,)\n"
     ]
    }
   ],
   "source": [
    "# 전통적인 방법 vs NumPy 방법 비교\n",
    "print(\"=== 전통적인 방법 (for문 사용) ===\")\n",
    "list3 = []\n",
    "for i in range(1, 51, 1):\n",
    "    list3.append(i)\n",
    "print(f\"for문으로 생성: {list3[:10]}...\")  # 처음 10개만 출력\n",
    "\n",
    "print(\"\\n=== NumPy 방법 (arange 사용) ===\")\n",
    "arr3 = np.arange(1, 51, 1)\n",
    "print(f\"arange로 생성: {arr3[:10]}...\")  # 처음 10개만 출력\n",
    "print(f\"배열 크기: {arr3.shape}\")"
   ]
  },
  {
   "cell_type": "code",
   "execution_count": 7,
   "id": "aba91d53",
   "metadata": {},
   "outputs": [
    {
     "name": "stdout",
     "output_type": "stream",
     "text": [
      "=== 배열 모양 변경 ===\n",
      "5행 10열로 변경:\n",
      "[[ 1  2  3  4  5  6  7  8  9 10]\n",
      " [11 12 13 14 15 16 17 18 19 20]\n",
      " [21 22 23 24 25 26 27 28 29 30]\n",
      " [31 32 33 34 35 36 37 38 39 40]\n",
      " [41 42 43 44 45 46 47 48 49 50]]\n",
      "변경된 배열 크기: (5, 10)\n",
      "\n",
      "10행 5열로 변경:\n",
      "[[ 1  2  3  4  5]\n",
      " [ 6  7  8  9 10]\n",
      " [11 12 13 14 15]\n",
      " [16 17 18 19 20]\n",
      " [21 22 23 24 25]\n",
      " [26 27 28 29 30]\n",
      " [31 32 33 34 35]\n",
      " [36 37 38 39 40]\n",
      " [41 42 43 44 45]\n",
      " [46 47 48 49 50]]\n"
     ]
    }
   ],
   "source": [
    "# reshape을 사용한 배열 모양 변경\n",
    "print(\"=== 배열 모양 변경 ===\")\n",
    "arr3_2d = arr3.reshape(5, 10)\n",
    "print(f\"5행 10열로 변경:\\n{arr3_2d}\")\n",
    "print(f\"변경된 배열 크기: {arr3_2d.shape}\")\n",
    "\n",
    "# 다른 형태로도 변경 가능\n",
    "arr3_10x5 = arr3.reshape(10, 5)\n",
    "print(f\"\\n10행 5열로 변경:\\n{arr3_10x5}\")"
   ]
  },
  {
   "cell_type": "markdown",
   "id": "c77002f8",
   "metadata": {},
   "source": [
    "## 🎯 7. 배열 인덱싱과 슬라이싱\n",
    "\n",
    "### 데이터 접근 방법들\n",
    "1. **인덱싱(Indexing)**: 특정 위치의 값 하나에 접근\n",
    "2. **슬라이싱(Slicing)**: 연속된 여러 값에 접근\n",
    "3. **불리언 인덱싱(Boolean Indexing)**: 조건에 맞는 값들에 접근\n",
    "\n",
    "```mermaid\n",
    "graph TD\n",
    "    A[배열 데이터 접근] --> B[인덱싱]\n",
    "    A --> C[슬라이싱]\n",
    "    A --> D[불리언 인덱싱]\n",
    "    \n",
    "    B --> E[\"arr[0] → 첫 번째 요소\"]\n",
    "    C --> F[\"arr[1:4] → 1~3번째 요소\"]\n",
    "    D --> G[\"arr[arr > 30] → 30보다 큰 요소들\"]\n",
    "```"
   ]
  },
  {
   "cell_type": "code",
   "execution_count": 8,
   "id": "00860a3a",
   "metadata": {},
   "outputs": [
    {
     "name": "stdout",
     "output_type": "stream",
     "text": [
      "실습용 배열: [10 20 30 40 50]\n",
      "\n",
      "=== 인덱싱 ===\n",
      "첫 번째 숫자: 10\n",
      "첫 번째와 세 번째 숫자: [10 30]\n"
     ]
    }
   ],
   "source": [
    "# 실습용 배열 생성 (10, 20, 30, 40, 50)\n",
    "arr4 = np.arange(10, 51, 10)\n",
    "print(f\"실습용 배열: {arr4}\")\n",
    "\n",
    "# 1. 인덱싱 - 특정 위치의 값 하나 가져오기\n",
    "print(\"\\n=== 인덱싱 ===\")\n",
    "first_element = arr4[0]\n",
    "print(f\"첫 번째 숫자: {first_element}\")\n",
    "\n",
    "# 여러 개의 특정 위치 값 가져오기\n",
    "multiple_elements = arr4[[0, 2]]  # 첫 번째와 세 번째\n",
    "print(f\"첫 번째와 세 번째 숫자: {multiple_elements}\")"
   ]
  },
  {
   "cell_type": "code",
   "execution_count": 9,
   "id": "376e0b7e",
   "metadata": {},
   "outputs": [
    {
     "name": "stdout",
     "output_type": "stream",
     "text": [
      "=== 슬라이싱 ===\n",
      "모든 요소: [10 20 30 40 50]\n",
      "처음 3개: [10 20 30]\n",
      "마지막 2개: [40 50]\n",
      "2칸씩 건너뛰기: [10 30 50]\n"
     ]
    }
   ],
   "source": [
    "# 2. 슬라이싱 - 연속된 여러 값 가져오기\n",
    "print(\"=== 슬라이싱 ===\")\n",
    "# 형식: arr[시작:끝:간격]\n",
    "slice_all = arr4[0:5:1]  # 모든 요소\n",
    "print(f\"모든 요소: {slice_all}\")\n",
    "\n",
    "slice_first_three = arr4[0:3]  # 처음 3개\n",
    "print(f\"처음 3개: {slice_first_three}\")\n",
    "\n",
    "slice_last_two = arr4[-2:]  # 마지막 2개\n",
    "print(f\"마지막 2개: {slice_last_two}\")\n",
    "\n",
    "slice_step = arr4[::2]  # 2칸씩 건너뛰기\n",
    "print(f\"2칸씩 건너뛰기: {slice_step}\")"
   ]
  },
  {
   "cell_type": "code",
   "execution_count": 10,
   "id": "d1a0201d",
   "metadata": {},
   "outputs": [
    {
     "name": "stdout",
     "output_type": "stream",
     "text": [
      "=== 불리언 인덱싱 ===\n",
      "30보다 큰지 확인: [False False False  True  True]\n",
      "30보다 큰 값들: [40 50]\n",
      "20 이상 40 이하: [20 30 40]\n",
      "20 또는 50: [20 50]\n"
     ]
    }
   ],
   "source": [
    "# 3. 불리언 인덱싱 - 조건에 맞는 값들 가져오기\n",
    "print(\"=== 불리언 인덱싱 ===\")\n",
    "condition = arr4 > 30\n",
    "print(f\"30보다 큰지 확인: {condition}\")\n",
    "\n",
    "filtered_values = arr4[arr4 > 30]\n",
    "print(f\"30보다 큰 값들: {filtered_values}\")\n",
    "\n",
    "# 다양한 조건들\n",
    "print(f\"20 이상 40 이하: {arr4[(arr4 >= 20) & (arr4 <= 40)]}\")\n",
    "print(f\"20 또는 50: {arr4[(arr4 == 20) | (arr4 == 50)]}\")"
   ]
  },
  {
   "cell_type": "markdown",
   "id": "d06fbeb8",
   "metadata": {},
   "source": [
    "## 🧮 8. 실습 문제\n",
    "\n",
    "### 문제: 11~20까지 배열을 만들어서 제곱의 값이 200 이상인 숫자만 출력하기"
   ]
  },
  {
   "cell_type": "code",
   "execution_count": 11,
   "id": "40982a2b",
   "metadata": {},
   "outputs": [
    {
     "name": "stdout",
     "output_type": "stream",
     "text": [
      "11~20 배열: [11 12 13 14 15 16 17 18 19 20]\n",
      "제곱 값들: [121 144 169 196 225 256 289 324 361 400]\n",
      "200 이상인지 확인: [False False False False  True  True  True  True  True  True]\n",
      "제곱이 200 이상인 숫자들: [15 16 17 18 19 20]\n",
      "조건을 만족하는 숫자 개수: 6개\n"
     ]
    }
   ],
   "source": [
    "# 11~20까지 배열 생성\n",
    "arr5 = np.arange(11, 21, 1)\n",
    "print(f\"11~20 배열: {arr5}\")\n",
    "\n",
    "# 제곱 계산\n",
    "squared = arr5 ** 2\n",
    "print(f\"제곱 값들: {squared}\")\n",
    "\n",
    "# 200 이상인지 확인\n",
    "condition = squared >= 200\n",
    "print(f\"200 이상인지 확인: {condition}\")\n",
    "\n",
    "# 조건을 만족하는 원래 숫자들 출력\n",
    "result = arr5[arr5 ** 2 >= 200]\n",
    "print(f\"제곱이 200 이상인 숫자들: {result}\")\n",
    "\n",
    "# 개수 확인\n",
    "count = result.size\n",
    "print(f\"조건을 만족하는 숫자 개수: {count}개\")"
   ]
  },
  {
   "cell_type": "markdown",
   "id": "be18d816",
   "metadata": {},
   "source": [
    "## 📊 9. 실제 데이터 활용: BMI 계산\n",
    "\n",
    "### BMI (Body Mass Index) 계산 공식\n",
    "**BMI = 몸무게(kg) ÷ 키(m)²**\n",
    "\n",
    "### 📈 BMI 기준\n",
    "- 18.5 미만: 저체중\n",
    "- 18.5~22.9: 정상체중\n",
    "- 23~24.9: 과체중\n",
    "- 25 이상: 비만\n",
    "\n",
    "```mermaid\n",
    "graph LR\n",
    "    A[키/몸무게 데이터] --> B[데이터 로드]\n",
    "    B --> C[단위 변환]\n",
    "    C --> D[BMI 계산]\n",
    "    D --> E[분석 결과]\n",
    "```"
   ]
  },
  {
   "cell_type": "code",
   "execution_count": 12,
   "id": "15a5a4e9",
   "metadata": {},
   "outputs": [
    {
     "name": "stdout",
     "output_type": "stream",
     "text": [
      "키 데이터(cm): [170 165 180 175 160 185 172 168 178 155]\n",
      "몸무게 데이터(kg): [65 55 80 70 50 90 68 60 75 45]\n",
      "\n",
      "데이터 개수: 10개\n",
      "키 데이터 타입: int64\n",
      "몸무게 데이터 타입: int64\n"
     ]
    }
   ],
   "source": [
    "# 샘플 데이터 생성 (실제 파일이 없는 경우)\n",
    "# 키(cm)와 몸무게(kg) 데이터\n",
    "height_cm = np.array([170, 165, 180, 175, 160, 185, 172, 168, 178, 155])\n",
    "weight_kg = np.array([65, 55, 80, 70, 50, 90, 68, 60, 75, 45])\n",
    "\n",
    "print(f\"키 데이터(cm): {height_cm}\")\n",
    "print(f\"몸무게 데이터(kg): {weight_kg}\")\n",
    "\n",
    "# 데이터 속성 확인\n",
    "print(f\"\\n데이터 개수: {height_cm.size}개\")\n",
    "print(f\"키 데이터 타입: {height_cm.dtype}\")\n",
    "print(f\"몸무게 데이터 타입: {weight_kg.dtype}\")"
   ]
  },
  {
   "cell_type": "code",
   "execution_count": 13,
   "id": "f7fa5b20",
   "metadata": {},
   "outputs": [
    {
     "name": "stdout",
     "output_type": "stream",
     "text": [
      "=== BMI 계산 과정 ===\n",
      "키(m): [1.7  1.65 1.8  1.75 1.6  1.85 1.72 1.68 1.78 1.55]\n",
      "BMI 지수: [22.49134948 20.2020202  24.69135802 22.85714286 19.53125    26.29656684\n",
      " 22.98539751 21.2585034  23.67125363 18.73048907]\n",
      "BMI 지수(반올림): [22.5 20.2 24.7 22.9 19.5 26.3 23.  21.3 23.7 18.7]\n"
     ]
    }
   ],
   "source": [
    "# BMI 계산 과정\n",
    "print(\"=== BMI 계산 과정 ===\")\n",
    "\n",
    "# 1. 키를 cm에서 m로 변환\n",
    "height_m = height_cm / 100\n",
    "print(f\"키(m): {height_m}\")\n",
    "\n",
    "# 2. BMI 계산: 몸무게 ÷ 키²\n",
    "bmi = weight_kg / (height_m ** 2)\n",
    "print(f\"BMI 지수: {bmi}\")\n",
    "print(f\"BMI 지수(반올림): {np.round(bmi, 1)}\")"
   ]
  },
  {
   "cell_type": "code",
   "execution_count": 14,
   "id": "35ea62f1",
   "metadata": {},
   "outputs": [
    {
     "name": "stdout",
     "output_type": "stream",
     "text": [
      "=== BMI 분석 결과 ===\n",
      "과체중 여부: [False False  True False False  True False False  True False]\n",
      "과체중인 사람들의 BMI: [24.7 26.3 23.7]\n",
      "과체중인 사람 수: 3명\n",
      "정상체중인 사람들의 BMI: [22.5 20.2 22.9 19.5 23.  21.3 18.7]\n",
      "정상체중인 사람 수: 7명\n",
      "\n",
      "=== 전체 통계 ===\n",
      "평균 BMI: 22.3\n",
      "최고 BMI: 26.3\n",
      "최저 BMI: 18.7\n"
     ]
    }
   ],
   "source": [
    "# 3. BMI 분석\n",
    "print(\"=== BMI 분석 결과 ===\")\n",
    "\n",
    "# 과체중(BMI ≥ 23) 확인\n",
    "overweight_condition = bmi >= 23\n",
    "print(f\"과체중 여부: {overweight_condition}\")\n",
    "\n",
    "overweight_bmi = bmi[bmi >= 23]\n",
    "print(f\"과체중인 사람들의 BMI: {np.round(overweight_bmi, 1)}\")\n",
    "\n",
    "overweight_count = overweight_bmi.size\n",
    "print(f\"과체중인 사람 수: {overweight_count}명\")\n",
    "\n",
    "# 정상체중(18.5 ≤ BMI < 23) 확인\n",
    "normal_weight = bmi[(bmi >= 18.5) & (bmi < 23)]\n",
    "print(f\"정상체중인 사람들의 BMI: {np.round(normal_weight, 1)}\")\n",
    "print(f\"정상체중인 사람 수: {normal_weight.size}명\")\n",
    "\n",
    "# 전체 통계\n",
    "print(f\"\\n=== 전체 통계 ===\")\n",
    "print(f\"평균 BMI: {np.round(np.mean(bmi), 1)}\")\n",
    "print(f\"최고 BMI: {np.round(np.max(bmi), 1)}\")\n",
    "print(f\"최저 BMI: {np.round(np.min(bmi), 1)}\")"
   ]
  },
  {
   "cell_type": "markdown",
   "id": "1a103ae7",
   "metadata": {},
   "source": [
    "## 🎯 10. 추가 유용한 NumPy 함수들\n",
    "\n",
    "### 배열 생성 함수들\n",
    "- `np.zeros()`: 0으로 채워진 배열\n",
    "- `np.ones()`: 1로 채워진 배열\n",
    "- `np.random.random()`: 랜덤 값 배열\n",
    "- `np.linspace()`: 균등한 간격의 배열\n",
    "\n",
    "### 통계 함수들\n",
    "- `np.mean()`: 평균\n",
    "- `np.std()`: 표준편차\n",
    "- `np.sum()`: 합계\n",
    "- `np.max()`, `np.min()`: 최대값, 최소값"
   ]
  },
  {
   "cell_type": "code",
   "execution_count": 15,
   "id": "c89dbf8c",
   "metadata": {},
   "outputs": [
    {
     "name": "stdout",
     "output_type": "stream",
     "text": [
      "=== 다양한 배열 생성 ===\n",
      "0으로 채워진 배열: [0. 0. 0. 0. 0.]\n",
      "1로 채워진 배열: [1. 1. 1. 1. 1.]\n",
      "랜덤 값 배열: [0.69 0.99 0.22 0.29 0.9 ]\n",
      "균등 간격 배열: [ 0.   2.5  5.   7.5 10. ]\n",
      "랜덤 값 배열: [0.69 0.99 0.22 0.29 0.9 ]\n",
      "균등 간격 배열: [ 0.   2.5  5.   7.5 10. ]\n"
     ]
    }
   ],
   "source": [
    "# 다양한 배열 생성 함수들\n",
    "print(\"=== 다양한 배열 생성 ===\")\n",
    "\n",
    "# 0으로 채워진 배열\n",
    "zeros_arr = np.zeros(5)\n",
    "print(f\"0으로 채워진 배열: {zeros_arr}\")\n",
    "\n",
    "# 1로 채워진 배열\n",
    "ones_arr = np.ones(5)\n",
    "print(f\"1로 채워진 배열: {ones_arr}\")\n",
    "\n",
    "# 랜덤 값 배열\n",
    "random_arr = np.random.random(5)\n",
    "print(f\"랜덤 값 배열: {np.round(random_arr, 2)}\")\n",
    "\n",
    "# 균등한 간격의 배열\n",
    "linspace_arr = np.linspace(0, 10, 5)  # 0부터 10까지 5개\n",
    "print(f\"균등 간격 배열: {linspace_arr}\")"
   ]
  },
  {
   "cell_type": "code",
   "execution_count": 16,
   "id": "9107394d",
   "metadata": {},
   "outputs": [
    {
     "name": "stdout",
     "output_type": "stream",
     "text": [
      "시험 점수: [85 92 78 96 88 73 91 84 87 90]\n",
      "\n",
      "=== 통계 분석 ===\n",
      "평균 점수: 86.4\n",
      "표준편차: 6.5\n",
      "총합: 864\n",
      "최고 점수: 96\n",
      "최저 점수: 73\n",
      "중간값: 87.5\n",
      "\n",
      "90점 이상 점수: [92 96 91 90]\n",
      "90점 이상 학생 수: 4명\n",
      "90점 이상 비율: 40.0%\n"
     ]
    }
   ],
   "source": [
    "# 통계 함수들 활용\n",
    "test_scores = np.array([85, 92, 78, 96, 88, 73, 91, 84, 87, 90])\n",
    "print(f\"시험 점수: {test_scores}\")\n",
    "\n",
    "print(\"\\n=== 통계 분석 ===\")\n",
    "print(f\"평균 점수: {np.mean(test_scores):.1f}\")\n",
    "print(f\"표준편차: {np.std(test_scores):.1f}\")\n",
    "print(f\"총합: {np.sum(test_scores)}\")\n",
    "print(f\"최고 점수: {np.max(test_scores)}\")\n",
    "print(f\"최저 점수: {np.min(test_scores)}\")\n",
    "print(f\"중간값: {np.median(test_scores)}\")\n",
    "\n",
    "# 조건부 분석\n",
    "high_scores = test_scores[test_scores >= 90]\n",
    "print(f\"\\n90점 이상 점수: {high_scores}\")\n",
    "print(f\"90점 이상 학생 수: {high_scores.size}명\")\n",
    "print(f\"90점 이상 비율: {high_scores.size / test_scores.size * 100:.1f}%\")"
   ]
  },
  {
   "cell_type": "markdown",
   "id": "2ee96a3e",
   "metadata": {},
   "source": [
    "## 📚 11. 학습 정리\n",
    "\n",
    "### 🎯 오늘 배운 내용\n",
    "1. **Python 모듈 시스템**: 모듈, 패키지, 라이브러리의 개념\n",
    "2. **NumPy 기초**: 배열 생성과 기본 연산\n",
    "3. **배열 속성**: shape, ndim, size, dtype\n",
    "4. **데이터 접근**: 인덱싱, 슬라이싱, 불리언 인덱싱\n",
    "5. **실제 활용**: BMI 계산을 통한 데이터 분석\n",
    "\n",
    "```mermaid\n",
    "graph TD\n",
    "    A[Python 모듈 이해] --> B[NumPy 기초 학습]\n",
    "    B --> C[배열 생성 및 조작]\n",
    "    C --> D[데이터 접근 방법]\n",
    "    D --> E[실제 데이터 분석]\n",
    "    E --> F[데이터 과학 기초 완성]\n",
    "```\n",
    "\n",
    "### 💡 핵심 포인트\n",
    "- NumPy는 **데이터 과학의 기초**\n",
    "- 배열 연산은 **벡터화**되어 빠르고 효율적\n",
    "- **불리언 인덱싱**으로 조건부 데이터 추출 가능\n",
    "- 실제 데이터 분석에서 **전처리의 중요성**\n",
    "\n",
    "### 🚀 다음 단계\n",
    "- **Pandas**: 더 복잡한 데이터 구조 다루기\n",
    "- **Matplotlib**: 데이터 시각화\n",
    "- **머신러닝**: 예측 모델 만들기"
   ]
  }
 ],
 "metadata": {
  "kernelspec": {
   "display_name": "Python 3",
   "language": "python",
   "name": "python3"
  },
  "language_info": {
   "codemirror_mode": {
    "name": "ipython",
    "version": 3
   },
   "file_extension": ".py",
   "mimetype": "text/x-python",
   "name": "python",
   "nbconvert_exporter": "python",
   "pygments_lexer": "ipython3",
   "version": "3.13.5"
  }
 },
 "nbformat": 4,
 "nbformat_minor": 5
}
