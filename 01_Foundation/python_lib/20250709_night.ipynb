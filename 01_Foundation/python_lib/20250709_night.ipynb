{
 "cells": [
  {
   "cell_type": "code",
   "execution_count": null,
   "id": "41fdf2b5",
   "metadata": {},
   "outputs": [],
   "source": [
    "# numpy = Numerical Python의 약자\n",
    "# 파이썬의 수치 해석용 라이브러리\n",
    "# 리스트와 형태가 비슷하나 전혀 다른 성질이니 주의 !\n",
    "# 빠르고 효율적인 산술 연산을 제공\n",
    "# 다(n) 차원 (dimension) 배열(array) : n dimension array\n",
    "# i = row j = column  k = dimension"
   ]
  },
  {
   "cell_type": "code",
   "execution_count": 5,
   "id": "23e0bce9",
   "metadata": {},
   "outputs": [
    {
     "data": {
      "text/plain": [
       "numpy.ndarray"
      ]
     },
     "execution_count": 5,
     "metadata": {},
     "output_type": "execute_result"
    }
   ],
   "source": [
    "# 넘파이 배열 다루기\n",
    "import numpy as np\n",
    "\n",
    "list1 = [1, 2, 3, 4, 5]\n",
    "\n",
    "# 1차원 배열 만들기\n",
    "arr1 = np.array(list1)\n",
    "arr1\n",
    "type(arr1)\n",
    "\n"
   ]
  },
  {
   "cell_type": "code",
   "execution_count": 6,
   "id": "0948500d",
   "metadata": {},
   "outputs": [
    {
     "name": "stdout",
     "output_type": "stream",
     "text": [
      "[1, 2, 3, 4, 5, 1, 2, 3, 4, 5]\n",
      "[ 2  4  6  8 10]\n"
     ]
    }
   ],
   "source": [
    "# list와 array 차이점\n",
    "print(list1 + list1)\n",
    "print(arr1 + arr1)"
   ]
  },
  {
   "cell_type": "code",
   "execution_count": 7,
   "id": "b2909368",
   "metadata": {},
   "outputs": [
    {
     "data": {
      "text/plain": [
       "array([11, 12, 13, 14, 15])"
      ]
     },
     "execution_count": 7,
     "metadata": {},
     "output_type": "execute_result"
    }
   ],
   "source": [
    "arr1 + 10"
   ]
  },
  {
   "cell_type": "code",
   "execution_count": 8,
   "id": "e42571b0",
   "metadata": {},
   "outputs": [
    {
     "data": {
      "text/plain": [
       "array([[ 1,  2,  3,  4,  5],\n",
       "       [ 6,  7,  8,  9, 10]])"
      ]
     },
     "execution_count": 8,
     "metadata": {},
     "output_type": "execute_result"
    }
   ],
   "source": [
    "# 2차원 배열 => 각 차원에서 동일한 크기와 구조를 가져야 한다!\n",
    "# 이중리스트  => [[]]\n",
    "list2 = [[1,2,3,4,5],[6,7,8,9,10]]\n",
    "arr2 = np.array(list2)\n",
    "arr2"
   ]
  },
  {
   "cell_type": "code",
   "execution_count": 16,
   "id": "703297c5",
   "metadata": {},
   "outputs": [
    {
     "data": {
      "text/plain": [
       "dtype('int64')"
      ]
     },
     "execution_count": 16,
     "metadata": {},
     "output_type": "execute_result"
    }
   ],
   "source": [
    "#### 배열 속성 확인하기\n",
    "# - 데이터 배열 크기 : 배열 변수명.shape [depth, row, column]\n",
    "# - 데이터 차원 : 배열변수명.ndim \n",
    "# - 데이터 요소개수 : .size\n",
    "# - 데이터 타입 .dtype\n",
    "\n",
    "# 차원의 크기를 알려주는 function()\n",
    "arr2.shape\n",
    "\n",
    "arr2.ndim\n",
    "\n",
    "arr2.size\n",
    "\n",
    "arr2.dtype"
   ]
  },
  {
   "cell_type": "code",
   "execution_count": 17,
   "id": "fbef9e00",
   "metadata": {},
   "outputs": [
    {
     "data": {
      "text/plain": [
       "dtype('int8')"
      ]
     },
     "execution_count": 17,
     "metadata": {},
     "output_type": "execute_result"
    }
   ],
   "source": [
    "arr1_int8 = np.array([1,2,3,4,5],dtype=np.int8)\n",
    "arr1_int8.dtype"
   ]
  },
  {
   "cell_type": "code",
   "execution_count": null,
   "id": "978dac14",
   "metadata": {},
   "outputs": [
    {
     "data": {
      "text/plain": [
       "dtype('int64')"
      ]
     },
     "execution_count": 18,
     "metadata": {},
     "output_type": "execute_result"
    }
   ],
   "source": [
    "arr1_int64 = arr1_int8.astype(\"int64\")\n",
    "arr1_int64.dtype"
   ]
  },
  {
   "cell_type": "code",
   "execution_count": null,
   "id": "4d4de5e1",
   "metadata": {},
   "outputs": [
    {
     "name": "stdout",
     "output_type": "stream",
     "text": [
      "[1, 2, 3, 4, 5, 6, 7, 8, 9, 10, 11, 12, 13, 14, 15, 16, 17, 18, 19, 20, 21, 22, 23, 24, 25, 26, 27, 28, 29, 30, 31, 32, 33, 34, 35, 36, 37, 38, 39, 40, 41, 42, 43, 44, 45, 46, 47, 48, 49, 50]\n"
     ]
    },
    {
     "data": {
      "text/plain": [
       "array([ 1,  2,  3,  4,  5,  6,  7,  8,  9, 10, 11, 12, 13, 14, 15, 16, 17,\n",
       "       18, 19, 20, 21, 22, 23, 24, 25, 26, 27, 28, 29, 30, 31, 32, 33, 34,\n",
       "       35, 36, 37, 38, 39, 40, 41, 42, 43, 44, 45, 46, 47, 48, 49, 50])"
      ]
     },
     "execution_count": 22,
     "metadata": {},
     "output_type": "execute_result"
    }
   ],
   "source": [
    "## 1~50 까지 있는 배열 자동 function()이 있다.\n",
    "list3 = []\n",
    "\n",
    "for i in range(1, 51, 1):\n",
    "    list3.append(i)\n",
    "print(list3)\n",
    "\n",
    "arr3 = np.arange(1,51,1)\n",
    "arr3\n"
   ]
  },
  {
   "cell_type": "code",
   "execution_count": 27,
   "id": "02faf823",
   "metadata": {},
   "outputs": [
    {
     "data": {
      "text/plain": [
       "array([[ 1,  2,  3,  4,  5,  6,  7,  8,  9, 10],\n",
       "       [11, 12, 13, 14, 15, 16, 17, 18, 19, 20],\n",
       "       [21, 22, 23, 24, 25, 26, 27, 28, 29, 30],\n",
       "       [31, 32, 33, 34, 35, 36, 37, 38, 39, 40],\n",
       "       [41, 42, 43, 44, 45, 46, 47, 48, 49, 50]])"
      ]
     },
     "execution_count": 27,
     "metadata": {},
     "output_type": "execute_result"
    }
   ],
   "source": [
    "# arr3 를 2차원 배열로 바꿔보자 => 5행 10열의 2차원 배열 => reshape (row, column)\n",
    "arr3.reshape(5,10)"
   ]
  },
  {
   "cell_type": "code",
   "execution_count": null,
   "id": "b998c5df",
   "metadata": {},
   "outputs": [],
   "source": [
    "# 넘파이 배열의 인덱싱과 슬라이싱\n",
    "# indexing and slicing \n",
    "# boolean indexing => 논리 연산자를 활용하여 True 값을 출력할 수 있도록 데이터에 접근"
   ]
  },
  {
   "cell_type": "code",
   "execution_count": 30,
   "id": "1a3a0822",
   "metadata": {},
   "outputs": [
    {
     "data": {
      "text/plain": [
       "array([10, 20, 30, 40, 50])"
      ]
     },
     "execution_count": 30,
     "metadata": {},
     "output_type": "execute_result"
    }
   ],
   "source": [
    "# 데이터 접근을 위한 indexing slicing\n",
    "# 10, 20, 30, 40, 50\n",
    "\n",
    "# arr4 = np.array([10, 20, 30, 40, 50])\n",
    "arr4 = np.arange(10, 51, 10)\n",
    "arr4"
   ]
  }
 ],
 "metadata": {
  "kernelspec": {
   "display_name": "Python 3",
   "language": "python",
   "name": "python3"
  },
  "language_info": {
   "codemirror_mode": {
    "name": "ipython",
    "version": 3
   },
   "file_extension": ".py",
   "mimetype": "text/x-python",
   "name": "python",
   "nbconvert_exporter": "python",
   "pygments_lexer": "ipython3",
   "version": "3.13.5"
  }
 },
 "nbformat": 4,
 "nbformat_minor": 5
}
