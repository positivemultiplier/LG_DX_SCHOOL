{
 "cells": [
  {
   "cell_type": "code",
   "execution_count": 8,
   "id": "845b440d",
   "metadata": {},
   "outputs": [],
   "source": [
    "# 필수 libraries import\n",
    "import requests\n",
    "from bs4 import BeautifulSoup"
   ]
  },
  {
   "cell_type": "code",
   "execution_count": 16,
   "id": "663feee8",
   "metadata": {},
   "outputs": [
    {
     "data": {
      "text/plain": [
       "requests.models.Response"
      ]
     },
     "execution_count": 16,
     "metadata": {},
     "output_type": "execute_result"
    }
   ],
   "source": [
    "# request와 response\n",
    "\n",
    "response = requests.get(\"https://zdnet.co.kr/news/?lstcode=0000&page=1\")\n",
    "type(response)"
   ]
  },
  {
   "cell_type": "code",
   "execution_count": 17,
   "id": "6ce4b118",
   "metadata": {},
   "outputs": [],
   "source": [
    "# parser lxml로 parsing (response의 내용은 많은것들이 들어있다. 그중 text만을 =>html)\n",
    "soup = BeautifulSoup(response.text, \"lxml\")"
   ]
  },
  {
   "cell_type": "code",
   "execution_count": 47,
   "id": "5001ac91",
   "metadata": {},
   "outputs": [
    {
     "name": "stdout",
     "output_type": "stream",
     "text": [
      "20\n"
     ]
    }
   ],
   "source": [
    "# 원하는 tag만을 선택해서 변수에 담기. (제목, )\n",
    "# 단수형 selector 를 이용해서 title 가져오기\n",
    "soup.select(\"body > div.contentWrapper > div > div.left_cont > div.news_box > div:nth-child(1) > div.assetText > a > h3\")\n",
    "# 단수형 제거 => 복수형 selector\n",
    "title = soup.select(\"body > div.contentWrapper > div > div.left_cont > div.news_box > div > div.assetText > a > h3\")\n",
    "print(len(title))\n",
    "\n",
    "# 단수형 selector 를 이용해서 url 가져오기\n",
    "url = soup.select(\"body > div.contentWrapper > div > div.left_cont > div.news_box > div > div.assetText > a\")\n",
    "# 복수형 selector\n",
    "# url = soup.select(\"body > div.contentWrapper > div > div.left_cont > div.news_box > div > div.assetText > a\")\n"
   ]
  },
  {
   "cell_type": "code",
   "execution_count": 52,
   "id": "176640d4",
   "metadata": {},
   "outputs": [
    {
     "name": "stdout",
     "output_type": "stream",
     "text": [
      "[\"클라우드 시장 진출 선언한 '쿠팡'…AI·솔루션 파트너 생태계 확장 속도 낼까\", '점주도 안심, 청년도 간편…모바일 신분증 음주문화 바꾼다', 'CJ올리브영 글로벌몰, 전년 대비 매출 70%↑', '현금으로 결제한 열차 승차권, 온라인으로 환불 받는다', '미국서 입지 넓히는 하나금융…8월 LA지점 개설', '배경훈, 병역의무 중 박사과정 문제제기에 \"병무청 승인받았다\"', '배경훈 \"한국 정부의 소버린 AI, 유연하게 접근해야\"', \"위로 쌓는 3D 반도체 시대 도래...핵심은 '극저온 식각'\", \"'무선 충전' 전기자전거 아시나요…매트에 올려놨더니\", \"압구정에 뜬 럭셔리 극치 '마이바흐'…세계 첫 센터 연 사연은?\", '정부, 소비쿠폰 준비 만반…금융사 13곳과 협력 체계 구축', '\"개발자들, AI 쓰면 더 빨라진다?\"...실제로는 19% 더 느렸다', '[Q&AI] 연매출 3억 이하 소상공인이면 50만원 받는다?', '벤츠 마이바흐, 세계 3대 시장 韓에 첫 브랜드 센터 열어', \"AI 혁신이 가져올 도시의 변화…'2025 월드 스마트시티 엑스포' 개최\", '올톡페이 결제수단에 카카오페이 적용', \"11번가, '갤럭시 Z폴드·플립7' 자급제 사전판매 시작\", '내란특검 \"윤석열 3시30분까지 인치 지휘 공문\"', '사람 피부로 만든 폰 케이스?…\"깜짝 놀랐네\"', \"BBQ, 1년만에 대표 교체...CJ 출신 '김지훈' 대표 선임\"]\n",
      "['https://zdnet.co.kr/view/?no=20250714164014', 'https://zdnet.co.kr/view/?no=20250714164455', 'https://zdnet.co.kr/view/?no=20250714091457', 'https://zdnet.co.kr/view/?no=20250714163239', 'https://zdnet.co.kr/view/?no=20250714151149', 'https://zdnet.co.kr/view/?no=20250714162727', 'https://zdnet.co.kr/view/?no=20250714161434', 'https://zdnet.co.kr/view/?no=20250714160628', 'https://zdnet.co.kr/view/?no=20250714142648', 'https://zdnet.co.kr/view/?no=20250714152617', 'https://zdnet.co.kr/view/?no=20250714160552', 'https://zdnet.co.kr/view/?no=20250714160204', 'https://zdnet.co.kr/view/?no=20250714160111', 'https://zdnet.co.kr/view/?no=20250714141248', 'https://zdnet.co.kr/view/?no=20250714155545', 'https://zdnet.co.kr/view/?no=20250714134917', 'https://zdnet.co.kr/view/?no=20250714142251', 'https://zdnet.co.kr/view/?no=20250714154013', 'https://zdnet.co.kr/view/?no=20250714152148', 'https://zdnet.co.kr/view/?no=20250714152028']\n"
     ]
    }
   ],
   "source": [
    "# 수집한 title을 h3테그 제거하고, 리스트에 담아주자.\n",
    "title_list = []\n",
    "url_list = []\n",
    "url_fixed = \"https://zdnet.co.kr\"\n",
    "\n",
    "for i in range(len(title)) : \n",
    "    title_list.append(title[i].text)\n",
    "    url_list.append(url_fixed + url[i][\"href\"])\n",
    "\n",
    "print(title_list)\n",
    "print(url_list)"
   ]
  },
  {
   "cell_type": "code",
   "execution_count": null,
   "id": "2a7894f2",
   "metadata": {},
   "outputs": [],
   "source": [
    "# df로 시각화 및 피일로 저장\n",
    "import pandas as pd\n",
    "# data를 dictionary형태로 변수에 저장\n",
    "data = {\"뉴스제목\": title_list, \"뉴스링크\" : url_list}\n",
    "\n",
    "# pd형식으로 변환\n",
    "pd.DataFrame(data)\n",
    "\n",
    "# 변수에 담는다.\n",
    "news = pd.DataFrame(data)\n",
    "\n",
    "# 파일로 저장한다 (HTML, CSV, EXCEL)\n",
    "news.to_html(\"./dznews.html\", encoding = \"utf-8-sig\")\n",
    "\n",
    "news.to_csv(\"./dznews.csv\", encoding=\"utf-8-sig\")\n"
   ]
  },
  {
   "cell_type": "code",
   "execution_count": 108,
   "id": "35307634",
   "metadata": {},
   "outputs": [
    {
     "name": "stdout",
     "output_type": "stream",
     "text": [
      "100 100\n",
      "['Golden', 'FAMOUS', 'Dirty Work', 'Soda Pop', 'Drowning', '시작의 아이', '뛰어(JUMP)', '너에게 닿기를', '모르시나요(PROD.로코베리)', '어제보다 슬픈 오늘', 'Whiplash', 'like JENNIE', 'Never Ending Story', 'HOME SWEET HOME (feat. 태양, 대성)', 'WICKED', 'Your Idol', '청춘만화', '나는 반딧불', 'TOO BAD (feat. Anderson .Paak)', 'HANDS UP', '눈물참기', 'APT.', 'HAPPY', 'LIKE YOU BETTER', '오늘만 I LOVE YOU', 'REBEL HEART', '소나기', '한 페이지가 될 수 있게', '빌려온 고양이 (Do the Dance)', 'Flower', '천상연', 'Supernova', 'MY LOVE(2025)', '내게 사랑이 뭐냐고 물어본다면', 'Welcome to the Show', 'toxic till the end', '예뻤어', 'STYLE', 'Die With A Smile', '네모의 꿈', '어떻게 이별까지 사랑하겠어, 널 사랑하는 거지', 'HOT', '내 이름 맑음', 'THUNDER', 'How It’s Done', '그대만 있다면 (여름날 우리 X 너드커넥션 (Nerd Connection))', '고민중독', 'Pookie', 'ATTITUDE', 'DRIP', '첫 만남은 계획대로 되지 않아', 'UP (KARINA Solo)', 'Supersonic', '청혼하지 않을 이유를 못 찾았어', '미치게 그리워서', 'Love wins all', '사랑은 늘 도망가', '주저하는 연인들을 위해', '슬픈 초대장', 'PO￦ER', '에피소드', 'I DO ME', 'Magnetic', '너의 모든 순간', 'How Sweet', '나는 아픈 건 딱 질색이니까', 'Hype Boy', 'I AM', '비의 랩소디', 'Sticky', 'Seven (feat. Latto) - Clean Ver.', '사랑인가 봐', '모든 날, 모든 순간 (Every day, Every Moment)', '다정히 내 이름을 부르면', '여름이었다', '헤어지자 말해요', '그날이 오면', '123-78', '인사', '무제(無題) (Untitled, 2014)', '봄날', 'Fly Up', 'The Chase', '사막에서 꽃을 피우듯', 'Small girl (feat. 도경수(D.O.))', '우리들의 블루스', 'TAKE ME', '영원해', '천국보다 아름다운', 'Armageddon', '취중고백', 'Dash', 'Mantra', 'Ditto', '이렇게 좋아해 본 적이 없어요', '다시 만날 수 있을까', '이제 나만 믿어요', 'TAKEDOWN (JEONGYEON, JIHYO, CHAEYOUNG)', '모래 알갱이', 'Free']\n",
      "['\\nHUNTR/X, EJAE, AUDREY NUNA, REI AMI, KPop Demon Hunters CastHUNTR/X, EJAE, AUDREY NUNA, REI AMI, KPop Demon Hunters Cast\\n', '\\nALLDAY PROJECTALLDAY PROJECT\\n', '\\naespaaespa\\n', '\\nKPop Demon Hunters Cast, Danny Chung, Saja Boys, Andrew Choi, Neckwav, Kevin Woo, samUIL LeeKPop Demon Hunters Cast, Danny Chung, Saja Boys, Andrew Choi, Neckwav, Kevin Woo, samUIL Lee\\n', '\\nWOODZWOODZ\\n', '\\n마크툽 (MAKTUB)마크툽 (MAKTUB)\\n', '\\nBLACKPINKBLACKPINK\\n', '\\n10CM10CM\\n', '\\n조째즈조째즈\\n', '\\n우디 (Woody)우디 (Woody)\\n', '\\naespaaespa\\n', '\\n제니 (JENNIE)제니 (JENNIE)\\n', '\\n아이유아이유\\n', '\\nG-DRAGONG-DRAGON\\n', '\\nALLDAY PROJECTALLDAY PROJECT\\n', '\\nKPop Demon Hunters Cast, Danny Chung, Saja Boys, Andrew Choi, Neckwav, Kevin Woo, samUIL LeeKPop Demon Hunters Cast, Danny Chung, Saja Boys, Andrew Choi, Neckwav, Kevin Woo, samUIL Lee\\n', '\\n이무진이무진\\n', '\\n황가람황가람\\n', '\\nG-DRAGONG-DRAGON\\n', '\\nMEOVV (미야오)MEOVV (미야오)\\n', '\\nQWERQWER\\n', '\\n로제 (ROSÉ), Bruno Mars로제 (ROSÉ), Bruno Mars\\n', '\\nDAY6 (데이식스)DAY6 (데이식스)\\n', '\\n프로미스나인프로미스나인\\n', '\\nBOYNEXTDOORBOYNEXTDOOR\\n', '\\nIVE (아이브)IVE (아이브)\\n', '\\n이클립스 (ECLIPSE)이클립스 (ECLIPSE)\\n', '\\nDAY6 (데이식스)DAY6 (데이식스)\\n', '\\n아일릿(ILLIT)아일릿(ILLIT)\\n', '\\n오반(OVAN)오반(OVAN)\\n', '\\n이창섭이창섭\\n', '\\naespaaespa\\n', '\\n이예은, 아샤트리, 전건호이예은, 아샤트리, 전건호\\n', '\\n로이킴로이킴\\n', '\\nDAY6 (데이식스)DAY6 (데이식스)\\n', '\\n로제 (ROSÉ)로제 (ROSÉ)\\n', '\\nDAY6 (데이식스)DAY6 (데이식스)\\n', '\\nHearts2Hearts (하츠투하츠)Hearts2Hearts (하츠투하츠)\\n', '\\nLady Gaga, Bruno MarsLady Gaga, Bruno Mars\\n', '\\n아이유아이유\\n', '\\nAKMU (악뮤)AKMU (악뮤)\\n', '\\nLE SSERAFIM (르세라핌)LE SSERAFIM (르세라핌)\\n', '\\nQWERQWER\\n', '\\n세븐틴 (SEVENTEEN)세븐틴 (SEVENTEEN)\\n', '\\nHUNTR/X, EJAE, AUDREY NUNA, REI AMI, KPop Demon Hunters CastHUNTR/X, EJAE, AUDREY NUNA, REI AMI, KPop Demon Hunters Cast\\n', '\\n너드커넥션 (Nerd Connection)너드커넥션 (Nerd Connection)\\n', '\\nQWERQWER\\n', '\\nFIFTY FIFTYFIFTY FIFTY\\n', '\\nIVE (아이브)IVE (아이브)\\n', '\\nBABYMONSTERBABYMONSTER\\n', '\\nTWS (투어스)TWS (투어스)\\n', '\\naespaaespa\\n', '\\n프로미스나인프로미스나인\\n', '\\n이무진이무진\\n', '\\n황가람황가람\\n', '\\n아이유아이유\\n', '\\n임영웅임영웅\\n', '\\n잔나비잔나비\\n', '\\n순순희(지환)순순희(지환)\\n', '\\nG-DRAGONG-DRAGON\\n', '\\n이무진이무진\\n', '\\nKiiiKiii (키키)KiiiKiii (키키)\\n', '\\n아일릿(ILLIT)아일릿(ILLIT)\\n', '\\n성시경성시경\\n', '\\nNewJeansNewJeans\\n', '\\ni-dle (아이들)i-dle (아이들)\\n', '\\nNewJeansNewJeans\\n', '\\nIVE (아이브)IVE (아이브)\\n', '\\n임재현임재현\\n', '\\nKISS OF LIFEKISS OF LIFE\\n', '\\n정국정국\\n', '\\n멜로망스멜로망스\\n', '\\n폴킴폴킴\\n', '\\n경서예지, 전건호경서예지, 전건호\\n', '\\nH1-KEY (하이키)H1-KEY (하이키)\\n', '\\n박재정박재정\\n', '\\n투모로우바이투게더투모로우바이투게더\\n', '\\nBOYNEXTDOORBOYNEXTDOOR\\n', '\\n범진범진\\n', '\\nG-DRAGONG-DRAGON\\n', '\\n방탄소년단방탄소년단\\n', '\\nRIIZERIIZE\\n', '\\nHearts2Hearts (하츠투하츠)Hearts2Hearts (하츠투하츠)\\n', '\\n우디 (Woody)우디 (Woody)\\n', '\\n이영지이영지\\n', '\\n임영웅임영웅\\n', '\\nG-DRAGONG-DRAGON\\n', '\\n도경수(D.O.)도경수(D.O.)\\n', '\\n임영웅임영웅\\n', '\\naespaaespa\\n', '\\n김민석김민석\\n', '\\nPLAVEPLAVE\\n', '\\n제니 (JENNIE)제니 (JENNIE)\\n', '\\nNewJeansNewJeans\\n', '\\nBOYNEXTDOORBOYNEXTDOOR\\n', '\\n임영웅임영웅\\n', '\\n임영웅임영웅\\n', '\\nTWICE (트와이스)TWICE (트와이스)\\n', '\\n임영웅임영웅\\n', '\\nEJAE, KPop Demon Hunters Cast, Andrew Choi, Rumi, JinuEJAE, KPop Demon Hunters Cast, Andrew Choi, Rumi, Jinu\\n']\n"
     ]
    }
   ],
   "source": [
    "# 브라우저 정보 확인하기.\n",
    "# network => heager => user-agent 정보를 헤더에 넣어 get방식으로 server에 요청해야한다.  \n",
    "# 이때 user-agent는 key , contents는  value \n",
    "browser = {\"user-agent\" : \n",
    "\"Mozilla/5.0 (Windows NT 10.0; Win64; x64) AppleWebKit/537.36 (KHTML, like Gecko) Chrome/138.0.0.0 Safari/537.36\"}\n",
    "# 브라우저 정보를 header에 담아서 get요청하기. \n",
    "response = requests.get(\"https://www.melon.com/chart/\", headers = browser)\n",
    "\n",
    "# response 내용을 parsing 하기\n",
    "soup = BeautifulSoup(response.text, \"lxml\")\n",
    "soup\n",
    "\n",
    "# selector로 노래제목과, 가수명 가져오기 \n",
    "#lst50 > td:nth-child(6) > div > div > div.ellipsis.rank01 > span > a\n",
    "title = soup.select(\"td > div > div > div.ellipsis.rank01 > span > a\")\n",
    " \n",
    "# singer가 여러명인경우  a로 는 안된다. div 태그를 구분자로 선택한다 100개로 \n",
    "#lst50 > td:nth-child(6) > div > div > div.ellipsis.rank02 > a\n",
    "singer = soup.select(\" td > div > div > div.ellipsis.rank02\")\n",
    "print(len(title), len(singer))\n",
    "\n",
    "# list에 담기 \n",
    "title_list = []\n",
    "singer_list = []\n",
    "for i in range(len(title)):\n",
    "    title_list.append(title[i].text)\n",
    "    # singer는 div태그로 묶여있다. \n",
    "    singer_list.append(singer[i].text)\n",
    "\n",
    "print(title_list)\n",
    "print(singer_list)\n",
    "\n",
    "\n",
    "\n",
    "import pandas as pd\n",
    "\n",
    "melon_data = pd.DataFrame({\"노래제목\": title_list, \"가수명\": singer_list})\n",
    "\n",
    "melon_data.to_html(\"./멜론탑100.txt\", encoding = \"utf-8-sig\")\n",
    "melon_data.to_csv(\"./멜론탑100.csv\", encoding = \"utf-8-sig\")"
   ]
  },
  {
   "cell_type": "code",
   "execution_count": 107,
   "id": "fec2af25",
   "metadata": {},
   "outputs": [
    {
     "name": "stdout",
     "output_type": "stream",
     "text": [
      "https://finance.naver.com/marketindex/exchangeList.naver\n",
      "58\n",
      "58\n",
      "58\n",
      "58\n"
     ]
    }
   ],
   "source": [
    "# requests get방식으로 server에 요청하기.\n",
    "response = requests.get(\"https://finance.naver.com/marketindex/\")\n",
    "\n",
    "# parser lxml로 parsing하기 \n",
    "soup = BeautifulSoup(response.text, \"lxml\")\n",
    "\n",
    "# selector로 원하는 데이터 수집하기\n",
    "# 하지만 결과값이 안나올것이다 why? iframe이기 때문이다. \n",
    "# 우회하는방법은 requests.get()을 이용해서 iframe의 url을 직접 요청하는 것이다.\n",
    "# iframe을 통해서 sorce를 찾아야한다 . sorce -> src = \n",
    "soup.select(\"body > div > table > tbody > tr:nth-child(1) > td.tit > a\")\n",
    "\n",
    "# 상대경로를 절대경로로 바꿔줘야한다. \n",
    "# iframe 태그에 src = \"value \" 찾아줘야한다. \n",
    "site_header = \"https://finance.naver.com\"\n",
    "site_footer = \"/marketindex/exchangeList.naver\"\n",
    "site = site_header+site_footer\n",
    "print(site)\n",
    "\n",
    "\n",
    "# 다시 request와 response 요청을 해야한다. \n",
    "response = requests.get(site)\n",
    "\n",
    "# parsing = > lxml parser 사용\n",
    "parsing = BeautifulSoup(response.text, \"lxml\")\n",
    "\n",
    "# selector 사용해서 원하는 태그의 value를 가져온다.\n",
    "# \n",
    "currency_name = parsing.select(\"body > div > table > tbody > tr > td.tit > a\")\n",
    "print(len(currency_name))\n",
    "\n",
    "trade_rate = parsing.select(\"body > div > table > tbody > tr > td.sale\")\n",
    "print(len(trade_rate))\n",
    "\n",
    "exchange_buy = parsing.select(\"body > div > table > tbody > tr > td:nth-child(3)\")\n",
    "print(len(exchange_buy))\n",
    "\n",
    "exchange_sell = parsing.select(\"body > div > table > tbody > tr > td:nth-child(4)\")\n",
    "print(len(exchange_sell))\n",
    "\n",
    "\n",
    "curreny_name_list = []\n",
    "trade_rate_list = []\n",
    "exchange_buy_list = []\n",
    "exchange_sell_list = []\n",
    "\n",
    "for i in range(len(currency_name)):\n",
    "    curreny_name_list.append(currency_name[i].text.strip())\n",
    "    trade_rate_list.append(trade_rate[i].text.strip())\n",
    "    exchange_buy_list.append(exchange_buy[i].text.strip())\n",
    "    exchange_sell_list.append(exchange_sell[i].text.strip())\n",
    "\n",
    "\n",
    "\n",
    "import pandas \n",
    "exchange_data = pandas.DataFrame({\"통화\":curreny_name_list, \"교환비율\":trade_rate_list, \"살때가격\":exchange_buy_list, \"팔때가격\": exchange_sell_list})\n",
    "exchange_data\n",
    "\n",
    "\n",
    "exchange_data.to_html(\"./환율공시.html\", encoding=\"utf-8-sig\")\n",
    "exchange_data.to_csv(\"./환율공시.csv\", encoding=\"utf-8-sig\")"
   ]
  },
  {
   "cell_type": "code",
   "execution_count": null,
   "id": "23648540",
   "metadata": {},
   "outputs": [],
   "source": []
  },
  {
   "cell_type": "markdown",
   "id": "0f17f135",
   "metadata": {},
   "source": []
  }
 ],
 "metadata": {
  "kernelspec": {
   "display_name": "Python 3",
   "language": "python",
   "name": "python3"
  },
  "language_info": {
   "codemirror_mode": {
    "name": "ipython",
    "version": 3
   },
   "file_extension": ".py",
   "mimetype": "text/x-python",
   "name": "python",
   "nbconvert_exporter": "python",
   "pygments_lexer": "ipython3",
   "version": "3.13.5"
  }
 },
 "nbformat": 4,
 "nbformat_minor": 5
}
