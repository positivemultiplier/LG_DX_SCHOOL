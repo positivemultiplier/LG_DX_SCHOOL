{
 "cells": [
  {
   "cell_type": "markdown",
   "id": "78fe81e4",
   "metadata": {},
   "source": [
    "# 뉴스데이터 수집\n",
    "- 뉴스의 타이틀만 수집\n",
    "- 선택자 분석법"
   ]
  },
  {
   "cell_type": "code",
   "execution_count": null,
   "id": "4c3c40e3",
   "metadata": {},
   "outputs": [],
   "source": [
    "import requests as req\n",
    "from bs4 import BeautifulSoup as bs"
   ]
  },
  {
   "cell_type": "code",
   "execution_count": null,
   "id": "e5c3b005",
   "metadata": {},
   "outputs": [],
   "source": [
    "# 뉴스의 제목을 가져오는 함수 \n",
    "#  습관 1 : 검증후 변수에 넣기!!\n",
    "res = req.get(\"https://zdnet.co.kr/news/?lstcode=0000&page=1\")"
   ]
  },
  {
   "cell_type": "code",
   "execution_count": null,
   "id": "561d89c2",
   "metadata": {},
   "outputs": [],
   "source": [
    "# 2. bs으로 HTML 데이터 변환\n",
    "soup = bs(res.text, \"lxml\")"
   ]
  },
  {
   "cell_type": "code",
   "execution_count": null,
   "id": "19ff3d08",
   "metadata": {},
   "outputs": [],
   "source": [
    "# 3. html데이터에서 데이터 수집\n",
    "# 습관 2 : 개발자툴을 확인하고, 개발자도구에서 다시 영역확인하기.\n",
    "\n",
    "# 대화 : html 데이터에서 h3태그만 수집해\n",
    "soup.find_all(\"h3\")\n",
    "## soup.select(\"h3\")\n",
    "\n",
    "# selector를 이용해서 h3 태그를 가져와야한다. 계층선택자 부모자식을 활용해서 span그룹을 제외한 data를 가져온다. \n",
    "#soup.select(\"a>h3\")\n",
    "\n",
    "# 부모도 id or class가 있을때까지 계층선택자를 진행하라\n",
    "# 클래스나 id 있는경우 복사 붙여넣기로 가져오기 !!! 오타조심 \n",
    "soup.select(\"div.assetText>*>h3\")\n",
    "\n",
    "\n",
    "# 문제점 : 선택자의 범위가 넓어서 불필요한 데이터가 포함\n",
    "# 해결책 : 최대한 선택자의 범위를 좁히자.\n",
    "# 개념 : 내가 선택한 요소에 id, class 구분자가 없다면 부모태그를 활용하자. \n",
    "# 주의점 : 부모가 id, class를 가질 때 까지 좁힌다 =? 확률을 올리기 위해서 \n",
    "soup.select(\"div.assetText>a>h3\")\n",
    "\n",
    "# 수집한 데이터 변수에 담기\n",
    "title = soup.select(\"div.assetText>a>h3\")\n"
   ]
  },
  {
   "cell_type": "code",
   "execution_count": null,
   "id": "52e31fb0",
   "metadata": {},
   "outputs": [],
   "source": [
    "# 4. 현재 수집된 요소(태그+속성+컨텐츠) 에서 => 필요한 제목만 추출(컨텐츠)\n",
    "\n",
    "title[0].text\n",
    "\n",
    "\n",
    "for i in range(len(title)):\n",
    "# title[i]를 넣게 된다면 tag와 content가 모두 출력된다. 따라서 title[i].text를 사용해서 content만 추출한다.\n",
    "    print(type(title[i].text))"
   ]
  },
  {
   "cell_type": "code",
   "execution_count": null,
   "id": "aa2ad212",
   "metadata": {},
   "outputs": [],
   "source": [
    "# 5. 반목문을 통해서 모든 결과를 출력\n",
    "# len의 활용법 : for문의 반복횟수 사용, 데이터의 유무검증(if)\n",
    "# 비어있는 리스트에 글자만 저장할거야.\n",
    "title_list = []\n",
    "# 반복문을 통해서 title의 개수만큼 반복\n",
    "for i in range(len(title)):\n",
    "   # title[i]를 넣게 된다면 tag와 content가 모두 출력된다. 따라서 title[i].text를 사용해서 content만 추출한다.\n",
    "   title_list.append(title[i].text) \n",
    "\n",
    "title_list"
   ]
  },
  {
   "cell_type": "markdown",
   "id": "f72d79d5",
   "metadata": {},
   "source": [
    "#"
   ]
  },
  {
   "cell_type": "markdown",
   "id": "33e38a5e",
   "metadata": {},
   "source": [
    "# 크롤링 1회차 정리\n",
    "\n",
    "- 1. 크롤링 : 웹상에 존재한느 데이터를 컴퓨터가 수집하는 기술\n",
    " - 컴퓨터와 대화를 한다고 생각\n",
    " - 사람이 하는 행위를 세분화 해서 명령을 내린다.\n",
    "- 2. requests 라이브러리\n",
    "  - 브라우저를 대신하는 라이브러리\n",
    "  - 파이썬에서 데이터를 요청하는 라이브러리\n",
    "  - req.get(\"url\")\n",
    "  - 핵심 : 반드시 요청이 발생하면 응답이 넘어온다.\n",
    "  - 응답 : 200(성공), 400(실패,내탓), 500(실패,서버탓)\n",
    "- 3. BeautifulSoup 라이브러리\n",
    " - string데이터를 html데이터로 변환 (parser를 통해서 parsing)\n",
    " - 핵심 : 컴퓨터는 소통하기위해서 HTML이 필요하다. \n",
    "- 4. 특정 요소를 수집\n",
    " - soup.select(\"선택자 id,class > * > h2\")\n",
    " - 선택자는 작성할 때 반드시 범위르 최대한 좁힌다.\n",
    " - 이유 : 정확한 데이터를 수집할 확률을 올린다.\n",
    " - 내가 수집할 요소가 id, class(구분자)가 없다면 => 부모자식을 활용하자.\n",
    " - 핵심 : 부모가 구분자가 있을 때 까지 검사한다 => 범위를 좁힌다. \n",
    "- 5. crowling은 모든 사이트가 프로세스는 똑같다. \n",
    " - 1) 데이터 요청\n",
    " - 2) 데이터 변환\n",
    " - 3) 데이터 수집\n",
    " - 4) 데이터 가공\n",
    " - 5) 데이터 활용\n",
    "\n",
    "- 6. 월요일에 학습 내용\n",
    " - 링크 수집 (추가) anchor 태그의 href속성 \n",
    " - 상대경로 vs 절대경로: 수집된 링크가 상대경로이다. => 절대경로로 만들어줘야한다.\n",
    " - DF DataFrame으로 변환\n",
    " - 파일로 저장\n",
    "\n",
    " - 멜론차트 406 오류해결 , 선택자 해결 "
   ]
  },
  {
   "cell_type": "code",
   "execution_count": null,
   "id": "5dc6c7cd",
   "metadata": {},
   "outputs": [],
   "source": []
  }
 ],
 "metadata": {
  "kernelspec": {
   "display_name": "Python 3",
   "language": "python",
   "name": "python3"
  },
  "language_info": {
   "codemirror_mode": {
    "name": "ipython",
    "version": 3
   },
   "file_extension": ".py",
   "mimetype": "text/x-python",
   "name": "python",
   "nbconvert_exporter": "python",
   "pygments_lexer": "ipython3",
   "version": "3.13.5"
  }
 },
 "nbformat": 4,
 "nbformat_minor": 5
}
