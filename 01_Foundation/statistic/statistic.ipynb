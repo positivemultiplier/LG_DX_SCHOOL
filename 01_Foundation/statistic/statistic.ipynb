{
 "cells": [
  {
   "cell_type": "markdown",
   "id": "332f08af",
   "metadata": {},
   "source": []
  },
  {
   "cell_type": "markdown",
   "id": "dc546a80",
   "metadata": {},
   "source": [
    "#통계학\n",
    "\t1. E(R<sub>i</sub>) = Expected Rate of Return 기대수익률 $$E(R_{i})=\\sum P_{i}R_{i}$$\n",
    "\t2. σ<sub>i</sub><sup>2</sup> = Var(R<sub>i</sub>) Variance 분산 Devi<sub>i</sub><sup>2</sup>P<sub>i</sub>$$Var(R_{i})=σ_{i}^2=\\sum[R_{i}-E(R_{i})]^2P_{i}=E(R_{i}^2)-[E(R_{i})]^2$$\n",
    "\t3. σ<sub>i</sub> = Standard Deviation 표준편차 |Devi|$$σ_{i}=\\sqrt{ Var(R_{i}) }$$\n",
    "\t4. σ<sub>12</sub> = Cov(R<sub>i</sub>, R<sub>j</sub>) Covariance 공분산 Devi<sub>i</sub> Devi<sub>j</sub>$$Cov(R_{i} ,R_{j}) = σ_{ij}=\\sum[R_{i}-E(R_{i})][R_{j}-E(R_{j})]P^A=E[Devi]$$\n",
    "\t5. ρ<sub>12</sub> =  Co-efficient of Cor-relation = 상관계수$$ρ_{ij}= \\frac{Cov({R_{i}R_{j}})}{\\sqrt{ Var(R_{i}}) *\\sqrt{ Var(R_{j})}}=\\frac{σ_{ij}}{σ_{i}σ_{j}} $$"
   ]
  }
 ],
 "metadata": {
  "language_info": {
   "name": "python"
  }
 },
 "nbformat": 4,
 "nbformat_minor": 5
}
