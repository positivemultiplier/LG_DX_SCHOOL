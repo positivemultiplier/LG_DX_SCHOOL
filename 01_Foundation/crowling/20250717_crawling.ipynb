{
 "cells": [
  {
   "cell_type": "code",
   "execution_count": 5,
   "id": "d937b310",
   "metadata": {},
   "outputs": [],
   "source": [
    "# selenium 패키지의 webdriver 모듈을 wd라는 이름으로 import\n",
    "# By, Keys 모듈을 각각 By, Keys라는 이름으로 import\n",
    "from selenium import webdriver as wd\n",
    "from selenium.webdriver.common.by import By\n",
    "from selenium.webdriver.common.keys import Keys"
   ]
  },
  {
   "cell_type": "code",
   "execution_count": 24,
   "id": "dc294320",
   "metadata": {},
   "outputs": [],
   "source": [
    "driver = wd.Chrome()\n",
    "driver.get(\"https://www.naver.com\")"
   ]
  },
  {
   "cell_type": "code",
   "execution_count": 22,
   "id": "a7a9287d",
   "metadata": {},
   "outputs": [],
   "source": [
    "search = driver.find_element(By.CSS_SELECTOR, \"#query\")\n",
    "search.send_keys(\"퇴근에는 비가 오지마라 ! \")\n",
    "search.send_keys(Keys.ENTER)"
   ]
  },
  {
   "cell_type": "code",
   "execution_count": null,
   "id": "460aee6f",
   "metadata": {},
   "outputs": [],
   "source": []
  }
 ],
 "metadata": {
  "kernelspec": {
   "display_name": "Python 3",
   "language": "python",
   "name": "python3"
  },
  "language_info": {
   "codemirror_mode": {
    "name": "ipython",
    "version": 3
   },
   "file_extension": ".py",
   "mimetype": "text/x-python",
   "name": "python",
   "nbconvert_exporter": "python",
   "pygments_lexer": "ipython3",
   "version": "3.13.5"
  }
 },
 "nbformat": 4,
 "nbformat_minor": 5
}
