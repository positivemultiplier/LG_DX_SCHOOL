{
 "cells": [
  {
   "cell_type": "code",
   "execution_count": 3,
   "id": "9b840be3",
   "metadata": {},
   "outputs": [
    {
     "name": "stdout",
     "output_type": "stream",
     "text": [
      "0151798179\n"
     ]
    }
   ],
   "source": [
    "phone_number = \"01-5179-8179\"\n",
    "print(phone_number.replace(\"-\", \"\" ))"
   ]
  },
  {
   "cell_type": "code",
   "execution_count": 5,
   "id": "452b2a82",
   "metadata": {},
   "outputs": [
    {
     "name": "stdout",
     "output_type": "stream",
     "text": [
      "5\n",
      "6\n",
      "7\n",
      "8\n",
      "9\n",
      "10\n",
      "안녕하세요\n",
      "안녕하세요\n",
      "안녕하세요\n",
      "안녕하세요\n",
      "안녕하세요\n",
      "안녕하세요\n",
      "안녕하세요\n",
      "안녕하세요\n",
      "안녕하세요\n",
      "안녕하세요\n"
     ]
    }
   ],
   "source": [
    "start = 5\n",
    "end = 10\n",
    "num = 0\n",
    "\n",
    "for num in range(start, end +1, 1) :\n",
    "    print(num)\n",
    "\n",
    "\n",
    "for k in range(10) :\n",
    "    print (\"안녕하세요\")"
   ]
  },
  {
   "cell_type": "code",
   "execution_count": null,
   "id": "1c371327",
   "metadata": {},
   "outputs": [
    {
     "name": "stdout",
     "output_type": "stream",
     "text": [
      "＊\n",
      "＊＊\n",
      "＊＊＊\n",
      "＊＊＊＊\n",
      "＊＊＊＊＊\n"
     ]
    }
   ],
   "source": [
    "for cnt in range(1, 6, 1) : \n",
    "    print(\"＊\" * cnt)\n",
    "\n",
    "# print(\"*\" * 1)\n",
    "# print(\"*\" * 2)\n",
    "# print(\"*\" * 3)\n",
    "# print(\"*\" * 4)\n",
    "# print(\"*\" * 5)\n",
    "\n",
    "# java 에서는 어렵게 이중 for문 사용해야한다.\n",
    "   "
   ]
  },
  {
   "cell_type": "code",
   "execution_count": null,
   "id": "138bf515",
   "metadata": {},
   "outputs": [
    {
     "name": "stdout",
     "output_type": "stream",
     "text": [
      "[ 4 단] \n",
      "4 * 1 = 4\n",
      "4 * 2 = 8\n",
      "4 * 3 = 12\n",
      "4 * 4 = 16\n",
      "4 * 5 = 20\n",
      "4 * 6 = 24\n",
      "4 * 7 = 28\n",
      "4 * 8 = 32\n",
      "4 * 9 = 36\n"
     ]
    }
   ],
   "source": [
    "dan = int(input(\"단을 입력하세요 :\"))\n",
    "print(f\"[ {dan} 단] \")\n",
    "\n",
    "for cnt in range(1, 9+1, 1) :\n",
    "    print(f\"{dan} * {cnt} = {dan*cnt}\")\n",
    "\n",
    "# 일단 4단 출력 해보기 input은 나중에 받고,\n",
    "# 코드를 복북해서 출력문들을 먼저 생각하고     "
   ]
  },
  {
   "cell_type": "code",
   "execution_count": 13,
   "id": "6dd5d3b5",
   "metadata": {},
   "outputs": [
    {
     "name": "stdout",
     "output_type": "stream",
     "text": [
      "2 단: 2*1=2  2*2=4  2*3=6  2*4=8  2*5=10  2*6=12  2*7=14  2*8=16  2*9=18  \n",
      "3 단: 3*1=3  3*2=6  3*3=9  3*4=12  3*5=15  3*6=18  3*7=21  3*8=24  3*9=27  \n",
      "4 단: 4*1=4  4*2=8  4*3=12  4*4=16  4*5=20  4*6=24  4*7=28  4*8=32  4*9=36  \n",
      "5 단: 5*1=5  5*2=10  5*3=15  5*4=20  5*5=25  5*6=30  5*7=35  5*8=40  5*9=45  \n",
      "6 단: 6*1=6  6*2=12  6*3=18  6*4=24  6*5=30  6*6=36  6*7=42  6*8=48  6*9=54  \n",
      "7 단: 7*1=7  7*2=14  7*3=21  7*4=28  7*5=35  7*6=42  7*7=49  7*8=56  7*9=63  \n",
      "8 단: 8*1=8  8*2=16  8*3=24  8*4=32  8*5=40  8*6=48  8*7=56  8*8=64  8*9=72  \n",
      "9 단: 9*1=9  9*2=18  9*3=27  9*4=36  9*5=45  9*6=54  9*7=63  9*8=72  9*9=81  \n"
     ]
    }
   ],
   "source": [
    "for dan in range(2, 9+1, 1):\n",
    "    print(f\"{dan} 단:\", end=\" \")\n",
    "    for cnt in range(1, 9+1, 1):\n",
    "        print(f\"{dan}*{cnt}={ dan*cnt}\", end=\"  \")\n",
    "    print()"
   ]
  },
  {
   "cell_type": "code",
   "execution_count": 34,
   "id": "c29855fa",
   "metadata": {},
   "outputs": [],
   "source": [
    "import random"
   ]
  },
  {
   "cell_type": "code",
   "execution_count": 36,
   "id": "c4366d3a",
   "metadata": {},
   "outputs": [
    {
     "name": "stdout",
     "output_type": "stream",
     "text": [
      "메뉴 [1]구구단 퀴즈 시작 [2]구구단 퀴즈 종료\n",
      "구구단을 외자! 구구단을 외자!\n",
      "3 * 5 = \n",
      "틀렸습니다.\n",
      "1 * 6 = \n",
      "4 * 8 = \n",
      "틀렸습니다.\n",
      "8 * 5 = \n",
      "3 * 5 = \n",
      "틀렸습니다.\n",
      "6 * 9 = \n",
      "1 * 7 = \n",
      "8 * 9 = \n",
      "틀렸습니다.\n",
      "9 * 6 = \n",
      "7 * 8 = \n"
     ]
    },
    {
     "ename": "ValueError",
     "evalue": "invalid literal for int() with base 10: ''",
     "output_type": "error",
     "traceback": [
      "\u001b[31m---------------------------------------------------------------------------\u001b[39m",
      "\u001b[31mValueError\u001b[39m                                Traceback (most recent call last)",
      "\u001b[36mCell\u001b[39m\u001b[36m \u001b[39m\u001b[32mIn[36]\u001b[39m\u001b[32m, line 14\u001b[39m\n\u001b[32m     10\u001b[39m num2 = random.randint(\u001b[32m1\u001b[39m, \u001b[32m9\u001b[39m)\n\u001b[32m     12\u001b[39m \u001b[38;5;28mprint\u001b[39m(\u001b[33mf\u001b[39m\u001b[33m\"\u001b[39m\u001b[38;5;132;01m{\u001b[39;00mnum1\u001b[38;5;132;01m}\u001b[39;00m\u001b[33m * \u001b[39m\u001b[38;5;132;01m{\u001b[39;00mnum2\u001b[38;5;132;01m}\u001b[39;00m\u001b[33m = \u001b[39m\u001b[33m\"\u001b[39m)\n\u001b[32m---> \u001b[39m\u001b[32m14\u001b[39m input_answer = \u001b[38;5;28;43mint\u001b[39;49m\u001b[43m(\u001b[49m\u001b[38;5;28;43minput\u001b[39;49m\u001b[43m(\u001b[49m\u001b[33;43mf\u001b[39;49m\u001b[33;43m\"\u001b[39;49m\u001b[38;5;132;43;01m{\u001b[39;49;00m\u001b[43mnum1\u001b[49m\u001b[38;5;132;43;01m}\u001b[39;49;00m\u001b[33;43m * \u001b[39;49m\u001b[38;5;132;43;01m{\u001b[39;49;00m\u001b[43mnum2\u001b[49m\u001b[38;5;132;43;01m}\u001b[39;49;00m\u001b[33;43m = \u001b[39;49m\u001b[33;43m\"\u001b[39;49m\u001b[43m)\u001b[49m\u001b[43m)\u001b[49m\n\u001b[32m     15\u001b[39m \u001b[38;5;28;01mif\u001b[39;00m input_answer != num1 * num2 : \n\u001b[32m     16\u001b[39m     \u001b[38;5;28mprint\u001b[39m(\u001b[33m\"\u001b[39m\u001b[33m틀렸습니다.\u001b[39m\u001b[33m\"\u001b[39m)\n",
      "\u001b[31mValueError\u001b[39m: invalid literal for int() with base 10: ''"
     ]
    }
   ],
   "source": [
    "while True : \n",
    "    print('메뉴 [1]구구단 퀴즈 시작 [2]구구단 퀴즈 종료')\n",
    "    menu = int(input(\"메뉴를 선택하세요 : \"))\n",
    "\n",
    "    if menu == 1 :\n",
    "        print(\"구구단을 외자! 구구단을 외자!\")\n",
    "\n",
    "        while True :\n",
    "            num1 = random.randint(1, 9)\n",
    "            num2 = random.randint(1, 9)\n",
    "\n",
    "            print(f\"{num1} * {num2} = \")\n",
    "\n",
    "            input_answer = int(input(f\"{num1} * {num2} = \"))\n",
    "            if input_answer != num1 * num2 : \n",
    "                print(\"틀렸습니다.\")\n",
    "                break\n",
    "\n",
    "        \n",
    "    elif menu == 2 :\n",
    "        print(\"구구단을 종료합니다.\")\n",
    "        break\n"
   ]
  },
  {
   "cell_type": "code",
   "execution_count": 16,
   "id": "2e4cb318",
   "metadata": {},
   "outputs": [
    {
     "name": "stdout",
     "output_type": "stream",
     "text": [
      "메뉴 [1]구구단 퀴즈 시작 [2]구구단 퀴즈 종료\n",
      "구구단을 외자! 구구단을 외자!\n",
      "메뉴 [1]구구단 퀴즈 시작 [2]구구단 퀴즈 종료\n",
      "구구단을 외자! 구구단을 외자!\n",
      "메뉴 [1]구구단 퀴즈 시작 [2]구구단 퀴즈 종료\n",
      "구구단을 종료합니다.\n"
     ]
    }
   ],
   "source": [
    "while menu == 1:\n",
    "    print('메뉴 [1]구구단 퀴즈 시작 [2]구구단 퀴즈 종료')\n",
    "    menu = int(input(\"메뉴를 선택하세요 : \"))\n",
    "\n",
    "    if menu == 1 : \n",
    "        print(\"구구단을 외자! 구구단을 외자!\")\n",
    "print(\"구구단을 종료합니다.\")\n"
   ]
  },
  {
   "cell_type": "code",
   "execution_count": 18,
   "id": "82ac8631",
   "metadata": {},
   "outputs": [],
   "source": [
    "import random"
   ]
  },
  {
   "cell_type": "code",
   "execution_count": 33,
   "id": "5c7fd09b",
   "metadata": {},
   "outputs": [
    {
     "name": "stdout",
     "output_type": "stream",
     "text": [
      "4 * 8 = \n"
     ]
    },
    {
     "ename": "ValueError",
     "evalue": "invalid literal for int() with base 10: ''",
     "output_type": "error",
     "traceback": [
      "\u001b[31m---------------------------------------------------------------------------\u001b[39m",
      "\u001b[31mValueError\u001b[39m                                Traceback (most recent call last)",
      "\u001b[36mCell\u001b[39m\u001b[36m \u001b[39m\u001b[32mIn[33]\u001b[39m\u001b[32m, line 6\u001b[39m\n\u001b[32m      2\u001b[39m num2 = random.randint(\u001b[32m1\u001b[39m, \u001b[32m9\u001b[39m)\n\u001b[32m      4\u001b[39m \u001b[38;5;28mprint\u001b[39m(\u001b[33mf\u001b[39m\u001b[33m\"\u001b[39m\u001b[38;5;132;01m{\u001b[39;00mnum1\u001b[38;5;132;01m}\u001b[39;00m\u001b[33m * \u001b[39m\u001b[38;5;132;01m{\u001b[39;00mnum2\u001b[38;5;132;01m}\u001b[39;00m\u001b[33m = \u001b[39m\u001b[33m\"\u001b[39m)\n\u001b[32m----> \u001b[39m\u001b[32m6\u001b[39m an = \u001b[38;5;28;43mint\u001b[39;49m\u001b[43m(\u001b[49m\u001b[38;5;28;43minput\u001b[39;49m\u001b[43m(\u001b[49m\u001b[33;43mf\u001b[39;49m\u001b[33;43m\"\u001b[39;49m\u001b[38;5;132;43;01m{\u001b[39;49;00m\u001b[43mnum1\u001b[49m\u001b[38;5;132;43;01m}\u001b[39;49;00m\u001b[33;43m * \u001b[39;49m\u001b[38;5;132;43;01m{\u001b[39;49;00m\u001b[43mnum2\u001b[49m\u001b[38;5;132;43;01m}\u001b[39;49;00m\u001b[33;43m = \u001b[39;49m\u001b[33;43m\"\u001b[39;49m\u001b[43m)\u001b[49m\u001b[43m)\u001b[49m\n",
      "\u001b[31mValueError\u001b[39m: invalid literal for int() with base 10: ''"
     ]
    }
   ],
   "source": [
    "num1 = random.randint(1, 9)\n",
    "num2 = random.randint(1, 9)\n",
    "\n",
    "print(f\"{num1} * {num2} = \")\n",
    "\n",
    "an = int(input(f\"{num1} * {num2} = \"))"
   ]
  }
 ],
 "metadata": {
  "kernelspec": {
   "display_name": "Python 3",
   "language": "python",
   "name": "python3"
  },
  "language_info": {
   "codemirror_mode": {
    "name": "ipython",
    "version": 3
   },
   "file_extension": ".py",
   "mimetype": "text/x-python",
   "name": "python",
   "nbconvert_exporter": "python",
   "pygments_lexer": "ipython3",
   "version": "3.13.5"
  }
 },
 "nbformat": 4,
 "nbformat_minor": 5
}
