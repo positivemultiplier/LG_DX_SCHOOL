{
 "cells": [
  {
   "cell_type": "code",
   "execution_count": 56,
   "id": "292b2741",
   "metadata": {},
   "outputs": [],
   "source": [
    "# selenium 패키지의 webdriver 모듈을 wd라는 이름으로 import\n",
    "# By, Keys 모듈을 각각 By, Keys라는 이름으로 import\n",
    "from selenium import webdriver as wd\n",
    "from selenium.webdriver.common.by import By\n",
    "from selenium.webdriver.common.keys import Keys\n",
    "import time"
   ]
  },
  {
   "cell_type": "code",
   "execution_count": 57,
   "id": "c159c4dd",
   "metadata": {},
   "outputs": [],
   "source": [
    "#1. 크롬 브라우저 실행\n",
    "driver = wd.Chrome()"
   ]
  },
  {
   "cell_type": "code",
   "execution_count": 58,
   "id": "b0adb871",
   "metadata": {},
   "outputs": [],
   "source": [
    "#2. 네이버사이트로 이동\n",
    "driver.get(\"https://www.naver.com\")"
   ]
  },
  {
   "cell_type": "code",
   "execution_count": 59,
   "id": "cf3a90be",
   "metadata": {},
   "outputs": [],
   "source": [
    "# 3. 검색창에 \"태풍\" 검색 후, 엔터치기\n",
    "search = driver.find_element(By.CSS_SELECTOR,\"#query\")\n",
    "search.send_keys(\"비가와\")\n",
    "search.send_keys(Keys.ENTER)\n"
   ]
  },
  {
   "cell_type": "code",
   "execution_count": 60,
   "id": "3a1bf400",
   "metadata": {},
   "outputs": [],
   "source": [
    "# 4. 네비게이션바에서 뉴스 클릭하기 => anchor 태그를 찾아서 클릭해야한다. \n",
    "btn = driver.find_element(By.CSS_SELECTOR,\"#lnb > div.lnb_group > div > div.lnb_nav_area._nav_area_root > div > div.api_flicking_wrap._conveyer_root > div:nth-child(3) > a\")\n",
    "btn.click()"
   ]
  },
  {
   "cell_type": "code",
   "execution_count": 61,
   "id": "6a943a38",
   "metadata": {},
   "outputs": [],
   "source": [
    "# 스크롤 막대바의 쿠기를 구해라. 변동이 없을때 멈춘다. => 자바스크립트를 이용해야한다. \n",
    "# but python만으로 스크롤을 내릴수있다. \n",
    "# end를 눌렀을때 처음에 받은 데이터와 지금 데이터는 다르다. => data1를 저장하고 data2와 비교한다.\n",
    "# 만약 data x와 data x+1과 데이터의 값이 같다면 멈춘다. "
   ]
  },
  {
   "cell_type": "markdown",
   "id": "e2ddaf21",
   "metadata": {},
   "source": [
    "# 무한 스클롤링 방식\n",
    "- 핵심 : 스크롤을 내리기 전 데이터와 내린 후 데이터를 비교\n",
    "- 전 데이터와 후 데이터가 다르다면 => 데이터를 받아왔다. => 스크롤을 내려 \n",
    "- 전 데이터와 후 데이터가 같다면 => 데이터를 받을 수 없다. => 스크롤을 멈춰라 \n"
   ]
  },
  {
   "cell_type": "code",
   "execution_count": 62,
   "id": "e4f789b2",
   "metadata": {},
   "outputs": [
    {
     "data": {
      "text/plain": [
       "<selenium.webdriver.remote.webelement.WebElement (session=\"8179340316dae5f22ca932a920b45748\", element=\"f.83A11F02DB7E0592E685214B99E5C9C2.d.4C527DA3DBFD40A4917E608E6506C653.e.296\")>"
      ]
     },
     "execution_count": 62,
     "metadata": {},
     "output_type": "execute_result"
    }
   ],
   "source": [
    "driver.find_element(By.CSS_SELECTOR,\"body\")"
   ]
  },
  {
   "cell_type": "code",
   "execution_count": null,
   "id": "e69ee7d2",
   "metadata": {},
   "outputs": [
    {
     "name": "stdout",
     "output_type": "stream",
     "text": [
      "스크롤을 내렸습니다.\n",
      "스크롤을 내렸습니다.\n",
      "스크롤을 내렸습니다.\n",
      "스크롤을 내렸습니다.\n",
      "스크롤을 내렸습니다.\n",
      "스크롤을 내렸습니다.\n",
      "스크롤을 내렸습니다.\n",
      "스크롤을 내렸습니다.\n",
      "스크롤을 내렸습니다.\n",
      "스크롤을 내렸습니다.\n",
      "스크롤을 내렸습니다.\n",
      "더 이상 스크롤을 내릴 수 없습니다.\n"
     ]
    }
   ],
   "source": [
    "body = driver.find_element(By.CSS_SELECTOR,\"body\")\n",
    "\n",
    "while True:\n",
    "    # html 소스를 담는것 \n",
    "    first = driver.page_source\n",
    "    body.send_keys(Keys.END)\n",
    "    time.sleep(0.5)  # 스크롤을 내린 후, 페이지가 로드될 시간을 기다립니다.\n",
    "\n",
    "    second = driver.page_source\n",
    "    time.sleep(0.5)  # 스크롤을 내린 후, 페이지가 로드될 시간을 기다립니다.\n",
    "\n",
    "    if (first == second):\n",
    "        print(\"더 이상 스크롤을 내릴 수 없습니다.\")\n",
    "        break  \n",
    "    else:\n",
    "        print(\"스크롤을 내렸습니다.\")\n",
    "\n"
   ]
  },
  {
   "cell_type": "markdown",
   "id": "8467238c",
   "metadata": {},
   "source": [
    "# 7월 17일 크롤링 정리\n",
    "## 1. 속성 수집\n",
    "- get_attribute(속성값) \n",
    "- href, src\n",
    "## 2. 한솥도시락 포인트 3가지\n",
    "- 반드시 요소를 검사할 때 개발자 도구에서 확인해 볼 것\n",
    "- 상품페이지는 a 태그로 위를 덮어 논다=> 사용자가 편하게 누르기 위해서 \n",
    "- 해결책 : 반드시 주변 태그들을 분석하자 (class, id 구분자)\n",
    "\n",
    "## 3. 예외처리 \n",
    "- 코드가 오류가 나면 서비스가 중단\n",
    "- 오류가 났을 때 멈추지 않고, 동작하게 만드는 방식\n",
    "- try(시도할 코드)/except(오류가 났을 때 처리할 코드)\n",
    "- tip : 데이터 수집을 할 때는 except에 반드시 없다(none, null, na, NaN) 라는 의미의 데이터를 수집\n",
    "\n",
    "## 4. time 라이브러리\n",
    "- 목적 : 코드 중간에 쉬는 시간을 부여할 때 활용\n",
    "- 핵심 : 요청이 발생하면 time.sleep(초)을 사용하자\n",
    "- 이유: 응답받는 시간을 확보하기 위해서 \n",
    "- 정해진 시간은 없다. =>  환경에 따라 시간을 조절해야한다. \n",
    "\n",
    "# 5. 무한 스크롤링\n",
    "- 핵심 : 스크롤을 내리기 전 데이터와 내린 후 데이터를 비교\n",
    "- 전 데이터와 후 데이터가 다르다면 => 데이터를 받아왔다. => 스크롤\n",
    "- 전 데이터와 후 데이터가 같다면 => 데이터를 받을 수 없다. => 스크롤을 멈춰라\n",
    "- while문을 활용하여 페이지 정보를 비교하면 무한 스크롤링 가능하다.\n",
    "- driver.page_source를 활용해서 html정보를 변수에 저장하고 비교한다. \n",
    "\n",
    "## 6. 내일 배울 내용\n",
    "- Gmarket 데이터 (동적페이지 수집) => time.sleep()을 활용하여 데이터를 수집한다.\n",
    "- 이미지 수집도 한다. (응용부분)"
   ]
  }
 ],
 "metadata": {
  "kernelspec": {
   "display_name": "Python 3",
   "language": "python",
   "name": "python3"
  },
  "language_info": {
   "codemirror_mode": {
    "name": "ipython",
    "version": 3
   },
   "file_extension": ".py",
   "mimetype": "text/x-python",
   "name": "python",
   "nbconvert_exporter": "python",
   "pygments_lexer": "ipython3",
   "version": "3.13.5"
  }
 },
 "nbformat": 4,
 "nbformat_minor": 5
}
