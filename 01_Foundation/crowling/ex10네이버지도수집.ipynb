{
 "cells": [
  {
   "cell_type": "code",
   "execution_count": null,
   "id": "4d99e1b2",
   "metadata": {},
   "outputs": [],
   "source": [
    "from selenium import webdriver as wd \n",
    "from selenium.webdriver.common.by import By\n",
    "from selenium.webdriver.common.keys import Keys\n",
    "import time\n",
    "\n",
    "# 파일시스템을 위한 라이브러리(파일, 폴더를 생성하고 삭제하는 라이브러리)\n",
    "import os # 바탕화면에 폴더를 만들때 사용\n",
    "\n",
    "# 이미지의 링크를 파일로 변환하는 라이브러리 (retrieve : 회수하다. 다시찾다, 만회하다  )\n",
    "from urllib.request import urlretrieve\n"
   ]
  }
 ],
 "metadata": {
  "language_info": {
   "name": "python"
  }
 },
 "nbformat": 4,
 "nbformat_minor": 5
}
