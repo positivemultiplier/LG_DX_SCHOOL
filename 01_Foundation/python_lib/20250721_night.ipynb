{
 "cells": [
  {
   "cell_type": "markdown",
   "id": "20e2cd88",
   "metadata": {},
   "source": [
    "# 라이브러리 불러오기"
   ]
  },
  {
   "cell_type": "code",
   "execution_count": 8,
   "id": "79c73321",
   "metadata": {},
   "outputs": [],
   "source": [
    "import pandas as pd\n",
    "import numpy as np\n",
    "import matplotlib.pyplot as plt\n",
    "import seaborn as sns\n",
    "import os\n"
   ]
  },
  {
   "cell_type": "markdown",
   "id": "ec2d7e89",
   "metadata": {},
   "source": [
    "# 0.Pandas 자료 구조 이해하기\n",
    "## numpy는 다차원(n th Dimension) 지원해준다. but pandas는 1차원(Series), 2차원(DataFrame)만 지원한다. "
   ]
  },
  {
   "cell_type": "code",
   "execution_count": 9,
   "id": "164805a0",
   "metadata": {},
   "outputs": [],
   "source": [
    "# Series Class : 1차원 - 인덱스(index) + 값(value)\n",
    "# DataFrame Class : 2차원 - 표와 같은 형태(index + columns + values)"
   ]
  },
  {
   "cell_type": "code",
   "execution_count": 15,
   "id": "071444b6",
   "metadata": {},
   "outputs": [
    {
     "data": {
      "text/plain": [
       "'네임'"
      ]
     },
     "execution_count": 15,
     "metadata": {},
     "output_type": "execute_result"
    }
   ],
   "source": [
    "name_list = [\"영희\", \"철수\", \"민수\"]\n",
    "s2 = pd.Series(name_list, name = \"이름\") # 저장 => 대입\n",
    "s2.name\n",
    "\n",
    "s2.name = \"네임\"\n",
    "s2.name\n",
    "\n",
    "\n",
    "# 왜 name을 설정하는것일까? \n",
    "# 1) 데이터의 명확성\n",
    "# 2) 해당 시리즈를 다른 시리즈와 병합했을 때, name 값이 컬럼 이름이 된다. => 다른 시리즈와 구별 가능."
   ]
  },
  {
   "cell_type": "markdown",
   "id": "f410dd75",
   "metadata": {},
   "source": [
    "# DataFrame"
   ]
  },
  {
   "cell_type": "code",
   "execution_count": null,
   "id": "4b75db45",
   "metadata": {},
   "outputs": [
    {
     "data": {
      "text/html": [
       "<div>\n",
       "<style scoped>\n",
       "    .dataframe tbody tr th:only-of-type {\n",
       "        vertical-align: middle;\n",
       "    }\n",
       "\n",
       "    .dataframe tbody tr th {\n",
       "        vertical-align: top;\n",
       "    }\n",
       "\n",
       "    .dataframe thead th {\n",
       "        text-align: right;\n",
       "    }\n",
       "</style>\n",
       "<table border=\"1\" class=\"dataframe\">\n",
       "  <thead>\n",
       "    <tr style=\"text-align: right;\">\n",
       "      <th></th>\n",
       "      <th>이름</th>\n",
       "      <th>나이</th>\n",
       "      <th>성별</th>\n",
       "    </tr>\n",
       "  </thead>\n",
       "  <tbody>\n",
       "    <tr>\n",
       "      <th>0</th>\n",
       "      <td>영희</td>\n",
       "      <td>20</td>\n",
       "      <td>여</td>\n",
       "    </tr>\n",
       "    <tr>\n",
       "      <th>1</th>\n",
       "      <td>철수</td>\n",
       "      <td>21</td>\n",
       "      <td>남</td>\n",
       "    </tr>\n",
       "    <tr>\n",
       "      <th>2</th>\n",
       "      <td>민수</td>\n",
       "      <td>22</td>\n",
       "      <td>남</td>\n",
       "    </tr>\n",
       "  </tbody>\n",
       "</table>\n",
       "</div>"
      ],
      "text/plain": [
       "   이름  나이 성별\n",
       "0  영희  20  여\n",
       "1  철수  21  남\n",
       "2  민수  22  남"
      ]
     },
     "metadata": {},
     "output_type": "display_data"
    },
    {
     "data": {
      "text/html": [
       "<div>\n",
       "<style scoped>\n",
       "    .dataframe tbody tr th:only-of-type {\n",
       "        vertical-align: middle;\n",
       "    }\n",
       "\n",
       "    .dataframe tbody tr th {\n",
       "        vertical-align: top;\n",
       "    }\n",
       "\n",
       "    .dataframe thead th {\n",
       "        text-align: right;\n",
       "    }\n",
       "</style>\n",
       "<table border=\"1\" class=\"dataframe\">\n",
       "  <thead>\n",
       "    <tr style=\"text-align: right;\">\n",
       "      <th></th>\n",
       "      <th>이름</th>\n",
       "      <th>나이</th>\n",
       "      <th>성별</th>\n",
       "    </tr>\n",
       "  </thead>\n",
       "  <tbody>\n",
       "    <tr>\n",
       "      <th>0</th>\n",
       "      <td>영희</td>\n",
       "      <td>20</td>\n",
       "      <td>여</td>\n",
       "    </tr>\n",
       "    <tr>\n",
       "      <th>1</th>\n",
       "      <td>철수</td>\n",
       "      <td>21</td>\n",
       "      <td>남</td>\n",
       "    </tr>\n",
       "    <tr>\n",
       "      <th>2</th>\n",
       "      <td>민수</td>\n",
       "      <td>22</td>\n",
       "      <td>남</td>\n",
       "    </tr>\n",
       "  </tbody>\n",
       "</table>\n",
       "</div>"
      ],
      "text/plain": [
       "   이름  나이 성별\n",
       "0  영희  20  여\n",
       "1  철수  21  남\n",
       "2  민수  22  남"
      ]
     },
     "metadata": {},
     "output_type": "display_data"
    },
    {
     "name": "stdout",
     "output_type": "stream",
     "text": [
      "Index(['이름', '나이', '성별'], dtype='object')\n",
      "RangeIndex(start=0, stop=3, step=1)\n"
     ]
    }
   ],
   "source": [
    "# 딕셔너리 기반\n",
    "data = {\n",
    "    \"이름\": [\"영희\", \"철수\", \"민수\"],\n",
    "    \"나이\": [20, 21, 22],\n",
    "    \"성별\": [\"여\", \"남\", \"남\"]\n",
    "}\n",
    "df = pd.DataFrame(data) # DataFrame 생성\n",
    "display(df)\n",
    "\n",
    "# list 기반\n",
    "data2 = [\n",
    "    [\"영희\", 20, \"여\"],\n",
    "    [\"철수\", 21, \"남\"],\n",
    "    [\"민수\", 22, \"남\"]\n",
    "]\n",
    "df2 = pd.DataFrame(data2, columns=[\"이름\", \"나이\", \"성별\"]) # DataFrame 생성\n",
    "display(df2)\n",
    "print(df.columns)\n",
    "print(df2.index)\n",
    "\n",
    "# 두개의 차이점 \n",
    "# key 값이 컬럼명 자동 연결됨\n",
    "# 이중리스트 생성 : 컬럼명이 지정되지 않는다 (0,1,2.,...) => 확실하게 지정하고 싶으면, columns 파라미터를 지정한다.\n",
    "\n",
    "#반목문에 연결되게 하고싶음\n",
    "# -list변환 : list(df.columns) => Data가 list로 변환\n"
   ]
  },
  {
   "cell_type": "code",
   "execution_count": 23,
   "id": "1d6411af",
   "metadata": {},
   "outputs": [
    {
     "data": {
      "text/html": [
       "<div>\n",
       "<style scoped>\n",
       "    .dataframe tbody tr th:only-of-type {\n",
       "        vertical-align: middle;\n",
       "    }\n",
       "\n",
       "    .dataframe tbody tr th {\n",
       "        vertical-align: top;\n",
       "    }\n",
       "\n",
       "    .dataframe thead th {\n",
       "        text-align: right;\n",
       "    }\n",
       "</style>\n",
       "<table border=\"1\" class=\"dataframe\">\n",
       "  <thead>\n",
       "    <tr style=\"text-align: right;\">\n",
       "      <th></th>\n",
       "      <th>이름</th>\n",
       "      <th>파이썬</th>\n",
       "      <th>데이터베이스</th>\n",
       "    </tr>\n",
       "  </thead>\n",
       "  <tbody>\n",
       "    <tr>\n",
       "      <th>0</th>\n",
       "      <td>영희</td>\n",
       "      <td>90</td>\n",
       "      <td>85</td>\n",
       "    </tr>\n",
       "    <tr>\n",
       "      <th>1</th>\n",
       "      <td>철수</td>\n",
       "      <td>80</td>\n",
       "      <td>75</td>\n",
       "    </tr>\n",
       "    <tr>\n",
       "      <th>2</th>\n",
       "      <td>민수</td>\n",
       "      <td>70</td>\n",
       "      <td>95</td>\n",
       "    </tr>\n",
       "  </tbody>\n",
       "</table>\n",
       "</div>"
      ],
      "text/plain": [
       "   이름  파이썬  데이터베이스\n",
       "0  영희   90      85\n",
       "1  철수   80      75\n",
       "2  민수   70      95"
      ]
     },
     "metadata": {},
     "output_type": "display_data"
    }
   ],
   "source": [
    "data = {\n",
    "    \"이름\": [\"영희\", \"철수\", \"민수\"],\n",
    "    \"파이썬\": [90, 80, 70],\n",
    "    \"데이터베이스\": [85, 75, 95]\n",
    "}\n",
    "\n",
    "data\n",
    "data = pd.DataFrame(data)\n",
    "\n",
    "display(data)"
   ]
  },
  {
   "cell_type": "code",
   "execution_count": null,
   "id": "374ee88c",
   "metadata": {},
   "outputs": [
    {
     "ename": "NameError",
     "evalue": "name 's1' is not defined",
     "output_type": "error",
     "traceback": [
      "\u001b[31m---------------------------------------------------------------------------\u001b[39m",
      "\u001b[31mNameError\u001b[39m                                 Traceback (most recent call last)",
      "\u001b[36mCell\u001b[39m\u001b[36m \u001b[39m\u001b[32mIn[24]\u001b[39m\u001b[32m, line 1\u001b[39m\n\u001b[32m----> \u001b[39m\u001b[32m1\u001b[39m \u001b[43ms1\u001b[49m\n",
      "\u001b[31mNameError\u001b[39m: name 's1' is not defined"
     ]
    }
   ],
   "source": []
  }
 ],
 "metadata": {
  "kernelspec": {
   "display_name": "Python 3",
   "language": "python",
   "name": "python3"
  },
  "language_info": {
   "codemirror_mode": {
    "name": "ipython",
    "version": 3
   },
   "file_extension": ".py",
   "mimetype": "text/x-python",
   "name": "python",
   "nbconvert_exporter": "python",
   "pygments_lexer": "ipython3",
   "version": "3.13.5"
  }
 },
 "nbformat": 4,
 "nbformat_minor": 5
}
