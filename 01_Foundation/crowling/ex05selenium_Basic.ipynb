{
 "cells": [
  {
   "cell_type": "markdown",
   "id": "7a9e0a48",
   "metadata": {},
   "source": [
    "# Selenium 라이브러리\n",
    "- req가 가지고 있는 한계인 브라우저 조작을 가능하게 해주는 라이브러리\n",
    "- 클릭, 입력, 스크롤, 화면전환 등.. 사람이 하는 행위를 똑같이 만드는 라이브러리 \n",
    "- 반드시 한번은 설치가 필요하다.\n",
    "- 핵심포인트: 사람처럼 코드를 작성한다. "
   ]
  },
  {
   "cell_type": "code",
   "execution_count": 16,
   "id": "c83f231c",
   "metadata": {},
   "outputs": [],
   "source": [
    "# 반드시 한번 설치가 필요하다 . \n",
    "# !pip install selenium"
   ]
  },
  {
   "cell_type": "code",
   "execution_count": 17,
   "id": "42fcf975",
   "metadata": {},
   "outputs": [],
   "source": [
    "# 브라우저를 담당하는 라이브러리 => 브라우저역할(필수)\n",
    "# package : selenium\n",
    "# module : webdriver\n",
    "from selenium import webdriver as wd"
   ]
  },
  {
   "cell_type": "code",
   "execution_count": 18,
   "id": "8d502574",
   "metadata": {},
   "outputs": [],
   "source": [
    "# 선택자를 구분할 때 사용하는 라이브러리 => (필수) B 대문자\n",
    "# package : selenium\n",
    "# module : webdriver.common.by\n",
    "\n",
    "from selenium.webdriver.common.by import By"
   ]
  },
  {
   "cell_type": "code",
   "execution_count": 19,
   "id": "f22f35ce",
   "metadata": {},
   "outputs": [],
   "source": [
    "# 컴퓨터용 키보드 라이브러리 (enter, del, end ... 기능을 담당하는 키) (선택) K 대문자\n",
    "# package : selenium\n",
    "# module : webdriver.common.keys\n",
    "\n",
    "from selenium.webdriver.common.keys import Keys"
   ]
  },
  {
   "cell_type": "code",
   "execution_count": 20,
   "id": "c6005197",
   "metadata": {},
   "outputs": [],
   "source": [
    "# 1. 브라우저 실행 => 컴퓨터용 창이 뜬다 . \n",
    "# 신버전 : 명령어로 Chrome만 입력한다.\n",
    "# 구버전 : (크롬드라이버의 경로)작성. => args 를 무시해도 된다. \n",
    "# wd.Chrome()\n",
    "\n",
    "# 드라이버 변수에 크롬 브라우저(봇용)를 넣는다.\n",
    "driver = wd.Chrome()"
   ]
  },
  {
   "cell_type": "code",
   "execution_count": 21,
   "id": "0748cfa5",
   "metadata": {},
   "outputs": [],
   "source": [
    "#2. 사이트 이동하기.\n",
    "driver.get(\"https://www.naver.com\")"
   ]
  },
  {
   "cell_type": "code",
   "execution_count": 22,
   "id": "267e86c2",
   "metadata": {},
   "outputs": [],
   "source": [
    "# 3.parsing이 필요없다. HTML로 바꿀 필요가 없네. beautifulsoup 필요없네.\n",
    "# selenium이 그 역할을 한다 : 이유 : browser가 가진 데이터는 원래 html 데이터이다."
   ]
  },
  {
   "cell_type": "code",
   "execution_count": 23,
   "id": "edec1185",
   "metadata": {},
   "outputs": [],
   "source": [
    "# 실습 : 검색창에 \"강아지\" 입력 후 , 엔터로 검색\n",
    "# 포인트 : 명령을 내릴려면 반드시 요소를 먼저 찾는다. \n",
    "# 대화 : driver 에게 요소를 찾을건데 아이디가 query인 요소를 찾아줘!! \n",
    "# find_element() : 요소를 찾는 명령\n",
    "# CSS_SELECTOR : css 선택자 방식으로 요소를 찾는 방법\n",
    "##### driver.find_element(By.CSS_SELECTOR, \"#query\")\n",
    "# 사용법 : 특정 요소를 찾을 때는 find_element()를 사용한다.\n",
    "#(By.CSS_SELECTOR, \"#query\") : CSS 선택자 방식으로 요소를 찾는다.\n",
    "# #query : id가 query인 요소를 찾는다.\n",
    "# 여러개의 요소를 찾을때는 find_elements()를 사용한다.\n",
    "search = driver.find_element(By.CSS_SELECTOR, \"#query\")\n",
    "# driver.find_element(By.ID, \"query\").send_keys(\"가나다라마바사\")"
   ]
  },
  {
   "cell_type": "code",
   "execution_count": 24,
   "id": "14c2b41c",
   "metadata": {},
   "outputs": [],
   "source": [
    "# 대화 : 찾은 검색창에 강아지값을 보내겠다. \n",
    "search.send_keys(\"LG\")\n",
    "# selenium은 동적수집이 목적이다.  동기통신(초기화 有) 과 비동기통신 (초기화 無)\n",
    "# 리셋되면 오류가 발생한다. "
   ]
  },
  {
   "cell_type": "markdown",
   "id": "0a83e769",
   "metadata": {},
   "source": [
    "# ★★★★★데이터가 초기화 된 후 반드시 기억할 포인트 ★★★★★\n",
    "- 화면이 전환되거나, 새로고침이 발생하면 모든 데이터는 초기화\n",
    "- 이전에 변수에 값을 담아도 활용이 불가능\n",
    "- 핵심 : 화면이 바뀌면 반드시 태그도 다시 찾는다.\n",
    "- 팁 : 화면 전체가 변하지 않고, 특정 부분만 새로고침 된다면 다시 찾을 필요가 없다.( 비동기 통신 )"
   ]
  },
  {
   "cell_type": "code",
   "execution_count": 25,
   "id": "5aa2b531",
   "metadata": {},
   "outputs": [],
   "source": [
    "# 엔터를 search에 보내야한다. 개념이 잘 안잡히네 driver에게 보내야 할 것 같은데.\n",
    "# 검색창에 enter를 보내서 입력 => 키보드라이브러리 keys를 사용한다. Keys.ENTER  기능보낼때는 대문자로 사용한다. \n",
    "search.send_keys(Keys.ENTER)"
   ]
  },
  {
   "cell_type": "code",
   "execution_count": 26,
   "id": "a7dbf984",
   "metadata": {},
   "outputs": [],
   "source": [
    "# 브라우저의 스크롤을 쭉 내리는 이유 => 더 많은 데이터를 수집하기 위해서\n",
    "# 화면의 최하단으로 스크롤 내리기\n",
    "# 화면 하단의 추가 데이터를 받는 경우에 사용한다. \n",
    "\n",
    "body = driver.find_element(By.CSS_SELECTOR, \"body\")\n",
    "# body = driver.find_element(By.TAG_NAME, \"body\")\n",
    "\n",
    "while True :\n",
    "    body.send_keys(Keys.END)\n",
    "    body.send_keys(Keys.HOME)\n",
    "    break"
   ]
  },
  {
   "cell_type": "code",
   "execution_count": 27,
   "id": "7768a618",
   "metadata": {},
   "outputs": [],
   "source": [
    "# 페이지 뒤로가기 브라우저의 기능을 사용한다. \n",
    "driver.back()"
   ]
  },
  {
   "cell_type": "code",
   "execution_count": 28,
   "id": "6e121545",
   "metadata": {},
   "outputs": [],
   "source": [
    "# 새로고침이 되었으니깐 다시 search를 찾아야 한다.\n",
    "search = driver.find_element(By.CSS_SELECTOR, \"#query\")\n",
    "search.send_keys(\"고양이\")\n",
    "\n",
    "# 클릭 svg 태그를 찾아서 갖어와야하는데, button 태그를 가지고 와서 찾는다. \n",
    "\n",
    "btn = driver.find_element(By.CSS_SELECTOR, \"#sform > fieldset > button\")\n",
    "# 돋보기 버튼을 클릭 \n",
    "btn.click()\n",
    "\n"
   ]
  },
  {
   "cell_type": "markdown",
   "id": "e370804b",
   "metadata": {},
   "source": [
    "# 수집"
   ]
  },
  {
   "cell_type": "code",
   "execution_count": 29,
   "id": "08f71fde",
   "metadata": {},
   "outputs": [],
   "source": [
    "# 고양이 이름 수집하기 \n",
    "cat = driver.find_elements(By.CSS_SELECTOR, \"#mflick > div > div > ul > li > div > div > strong > a\")"
   ]
  },
  {
   "cell_type": "code",
   "execution_count": 32,
   "id": "10038c58",
   "metadata": {},
   "outputs": [],
   "source": [
    "# cat 리스트의 내용을 출력하기. cat\n",
    "# 설명이 필요하다 .!!  왜 index \n",
    "for i in cat:  \n",
    "    print(i.text)"
   ]
  },
  {
   "cell_type": "markdown",
   "id": "07b70652",
   "metadata": {},
   "source": [
    "# 파일로 저장"
   ]
  },
  {
   "cell_type": "code",
   "execution_count": null,
   "id": "2d75153c",
   "metadata": {},
   "outputs": [],
   "source": []
  },
  {
   "cell_type": "code",
   "execution_count": 31,
   "id": "33e4cb6a",
   "metadata": {},
   "outputs": [],
   "source": [
    "# close()는 메모리는 꺼지지 않는다. \n",
    "# quit()은 메모리도 꺼진다. \n",
    "driver.quit()\n"
   ]
  }
 ],
 "metadata": {
  "kernelspec": {
   "display_name": "Python 3",
   "language": "python",
   "name": "python3"
  },
  "language_info": {
   "codemirror_mode": {
    "name": "ipython",
    "version": 3
   },
   "file_extension": ".py",
   "mimetype": "text/x-python",
   "name": "python",
   "nbconvert_exporter": "python",
   "pygments_lexer": "ipython3",
   "version": "3.13.5"
  }
 },
 "nbformat": 4,
 "nbformat_minor": 5
}
