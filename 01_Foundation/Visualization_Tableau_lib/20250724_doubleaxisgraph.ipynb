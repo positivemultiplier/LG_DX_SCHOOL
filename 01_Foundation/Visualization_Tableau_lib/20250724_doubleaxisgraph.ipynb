{
 "cells": [
  {
   "cell_type": "markdown",
   "id": "6d5335a7",
   "metadata": {},
   "source": [
    "# 01. 이중축 그리기\n",
    "- bar chart는 누적이 안된다. 따라서 line graph로 2중으로 넣어놓은다음 bar chart로 만들면 된다. \n",
    "\n",
    "- row에 기본값을 넣고, row에 하나더 넣는게 아니라, 측정값의 y축에 넣으면 2개를 동시에 넣을 수 있다. 따라서 열의 측정값이름이 나타난다. \n",
    "\n",
    "- 크기조절은 컨트롤 누르고(복사를 해야한다.) 모양으로 가져가기, 마크>측정값 이름을 컨트롤 누르면서 크기로 가져가기.\n",
    "\n",
    "- 누적되는것은 좋지 않다. 따라서 Map , Analysis 분석 => 마크누적 => 자동default값을 해제하기!!\n",
    "\n",
    "- 새롭게 달성량을 계산해서  새로운 변수를 만들 수 있다. 계산된 필드 만들기!  함수, 수식, if등의 문법을 만들어서 하면 된다. 달성량은 row에 추가시켜야한다. 그후 merge 하면된다. \n",
    "\n",
    "- 축 설정을 다시해야한다 .\n"
   ]
  },
  {
   "cell_type": "markdown",
   "id": "5af3b6a9",
   "metadata": {},
   "source": [
    "## 전처리 Data Preprocessiong 필요성\n",
    "- Preprocessing: 데이털르 전체적으로 가공하는 작업\n",
    "- Data Cleaning: Null값 제거, 중복 행 삭제, 오타 수정 등 오류 수정\n",
    "- Data Preparation: 분석에 적합한 형태로 구조화 + 데이터 타입 변경 등까지 포함 \n",
    "\n",
    "- 왜 전처리가 필요할까?\n",
    "    - \"쓰레기 데이터는 쓰레기 결과를 만든다.\" (Garbage In, Garbage Out)\n",
    "    - 분석할 때 중요한 건 데이터의 \"양\"보다 \"질\"\n",
    "    - 전처리는 데이터를 믿을 수 있고, 정확하게 해석 가능하게 만드는 작업"
   ]
  },
  {
   "cell_type": "markdown",
   "id": "1220faad",
   "metadata": {},
   "source": [
    "## Tableau 에서 전처리 필요성과 한계\n",
    "- 태블로에서 전처리가 필요한 이유\n",
    "    - Tableau는 기본적으로 시각적 도구이며, 전처리 기능은 제한적, \n",
    "    - 데이터가 준비되지 않으면 차트가 제대로 표현되지 않거나, 쓸 수 없는 필드가 많음\n",
    "    - 실시간 대시보드 구성 시, 잘 정제된 데이터는 속도와 가독성을 향상\n",
    "- excel을 가져오면 shteet별로 DB를 가져온다. \n",
    "- CSV를 가져오면, 시트별로 가져오지 않고, 하나의 테이블로 가져온다.\n",
    "- join = > merge how와 on 기능을 같이 사용할 수 있다. null 값이 생성된다. \n",
    "\n",
    "## 파이썬(pandas) 와 태블로 연계 사용\n",
    "- pandas에서 preprocess => csv 저장 => tableau에서 불러오기"
   ]
  },
  {
   "cell_type": "markdown",
   "id": "35978832",
   "metadata": {},
   "source": [
    "# Dashboard \n",
    "\n",
    "### tableau는 div를 컨테이너라고 개념을 잡는다.\n",
    "- dashboard는 그냥 여러개의 시각화를 모아놓은것\n",
    "\n",
    "# Story \n",
    "###\n",
    "- 스토리는 여러개의 대시보드를 모아놓은것\n",
    "- 스토리텔링을 통해서 데이터 분석 결과를 전달해는것\n"
   ]
  }
 ],
 "metadata": {
  "kernelspec": {
   "display_name": "Python 3",
   "language": "python",
   "name": "python3"
  },
  "language_info": {
   "codemirror_mode": {
    "name": "ipython",
    "version": 3
   },
   "file_extension": ".py",
   "mimetype": "text/x-python",
   "name": "python",
   "nbconvert_exporter": "python",
   "pygments_lexer": "ipython3",
   "version": "3.13.5"
  }
 },
 "nbformat": 4,
 "nbformat_minor": 5
}
