{
 "cells": [
  {
   "cell_type": "code",
   "execution_count": 2,
   "id": "eeaf0c05",
   "metadata": {},
   "outputs": [],
   "source": [
    "import os\n",
    "import pandas as pd"
   ]
  },
  {
   "cell_type": "code",
   "execution_count": null,
   "id": "d541a794",
   "metadata": {},
   "outputs": [],
   "source": [
    "# 1. Create DataFrame\n",
    "# hr-info.csv => euc-kr encoding\n",
    "# index == \"EID\"\n",
    "os.getcwd()\n",
    "data = pd.read_csv(\"./data/병합예제3/hr-info.csv\", index_col=\"EID\",encoding=\"euc-kr\")\n",
    "data"
   ]
  },
  {
   "cell_type": "code",
   "execution_count": null,
   "id": "c63c05bc",
   "metadata": {},
   "outputs": [],
   "source": [
    "# dataFrame 정보확인하기 .info()\n",
    "data.info()\n",
    "# 여기에서 결측치가 있는지 확인할 수 있다."
   ]
  },
  {
   "cell_type": "code",
   "execution_count": null,
   "id": "2d92a5f4",
   "metadata": {},
   "outputs": [],
   "source": [
    "# data.head(10)\n",
    "data.head(10)\n",
    "data.tail(10)"
   ]
  },
  {
   "cell_type": "code",
   "execution_count": null,
   "id": "eeb52e43",
   "metadata": {},
   "outputs": [],
   "source": [
    "# 행/열 크기확인 => 속성 shape 로 확인 => 괄호가 없다. \n",
    "data.shape\n"
   ]
  },
  {
   "cell_type": "code",
   "execution_count": null,
   "id": "b964a2fa",
   "metadata": {},
   "outputs": [],
   "source": [
    "# 상위 10개의 데이터만 보고싶다. => head() function 사용\n",
    "data.head(10)"
   ]
  },
  {
   "cell_type": "code",
   "execution_count": null,
   "id": "cf19d944",
   "metadata": {},
   "outputs": [],
   "source": [
    "# 하위 10개의 데이터만 보고싶다. => tail() function 사용\n",
    "data.tail(10)"
   ]
  },
  {
   "cell_type": "code",
   "execution_count": 73,
   "id": "d01c5172",
   "metadata": {},
   "outputs": [],
   "source": [
    "# 2. Read(indexing, slicing, selecting) "
   ]
  },
  {
   "cell_type": "code",
   "execution_count": null,
   "id": "3fb25186",
   "metadata": {},
   "outputs": [],
   "source": [
    "# 열 이름만 가져오기 => 속성 data.columns 사용하기\n",
    "data.columns"
   ]
  },
  {
   "cell_type": "code",
   "execution_count": null,
   "id": "934bdc77",
   "metadata": {},
   "outputs": [],
   "source": [
    "# 열 하나를 지정해서 values 가져오기. => Series 형식으로 가져오기\n",
    "data[\"ENAME\"] # 하나의 시리즈로 가져온것이다. \n",
    "# dataFrame 형식으로 가져오고싶다면  => DataFrame 형식으로 가져오고싶다면\n",
    "data[[\"ENAME\"]] # 이렇게 가져오면 된다.\n",
    "\n",
    "\n",
    "\n",
    "# data.iloc[0] 이건 행을 인덱싱하는것이다. 다른것이다. "
   ]
  },
  {
   "cell_type": "code",
   "execution_count": null,
   "id": "80894067",
   "metadata": {},
   "outputs": [],
   "source": [
    "# 열을 여러개 가져오기 => ENAME, GENDER, AGE => 시리즈가 여러게 포함된거라서 데이터프레임 형식으로 \n",
    "data[[\"ENAME\",\"GENDER\",\"AGE\"]]"
   ]
  },
  {
   "cell_type": "code",
   "execution_count": 5,
   "id": "79e6a64e",
   "metadata": {},
   "outputs": [
    {
     "data": {
      "text/html": [
       "<div>\n",
       "<style scoped>\n",
       "    .dataframe tbody tr th:only-of-type {\n",
       "        vertical-align: middle;\n",
       "    }\n",
       "\n",
       "    .dataframe tbody tr th {\n",
       "        vertical-align: top;\n",
       "    }\n",
       "\n",
       "    .dataframe thead th {\n",
       "        text-align: right;\n",
       "    }\n",
       "</style>\n",
       "<table border=\"1\" class=\"dataframe\">\n",
       "  <thead>\n",
       "    <tr style=\"text-align: right;\">\n",
       "      <th></th>\n",
       "      <th>ENAME</th>\n",
       "      <th>GENDER</th>\n",
       "      <th>ORG_CD</th>\n",
       "      <th>POS_CD</th>\n",
       "      <th>AGE</th>\n",
       "      <th>SERVICE_YEAR</th>\n",
       "      <th>EDU_LEVEL</th>\n",
       "      <th>PERFORMANCE_SCORE</th>\n",
       "      <th>SALARY</th>\n",
       "      <th>LAST_PROMO_DT</th>\n",
       "      <th>TRAINING_HOURS</th>\n",
       "      <th>SKILLS</th>\n",
       "      <th>ACTIVE_STATE</th>\n",
       "      <th>HIRE_DATE</th>\n",
       "      <th>RETIRE_DATE</th>\n",
       "      <th>RETIRE_REASON</th>\n",
       "      <th>REHIRE_YN</th>\n",
       "      <th>NATION</th>\n",
       "      <th>ROUNDING_DEDUCTION</th>\n",
       "    </tr>\n",
       "    <tr>\n",
       "      <th>EID</th>\n",
       "      <th></th>\n",
       "      <th></th>\n",
       "      <th></th>\n",
       "      <th></th>\n",
       "      <th></th>\n",
       "      <th></th>\n",
       "      <th></th>\n",
       "      <th></th>\n",
       "      <th></th>\n",
       "      <th></th>\n",
       "      <th></th>\n",
       "      <th></th>\n",
       "      <th></th>\n",
       "      <th></th>\n",
       "      <th></th>\n",
       "      <th></th>\n",
       "      <th></th>\n",
       "      <th></th>\n",
       "      <th></th>\n",
       "    </tr>\n",
       "  </thead>\n",
       "  <tbody>\n",
       "    <tr>\n",
       "      <th>E00206</th>\n",
       "      <td>시이오</td>\n",
       "      <td>M</td>\n",
       "      <td>NaN</td>\n",
       "      <td>P001</td>\n",
       "      <td>49</td>\n",
       "      <td>25</td>\n",
       "      <td>박사 학위</td>\n",
       "      <td>4.50</td>\n",
       "      <td>10200</td>\n",
       "      <td>2024-03-01</td>\n",
       "      <td>240</td>\n",
       "      <td>Marketing, Salesforce</td>\n",
       "      <td>Y</td>\n",
       "      <td>1999-03-01</td>\n",
       "      <td>NaN</td>\n",
       "      <td>NaN</td>\n",
       "      <td>NaN</td>\n",
       "      <td>KOREA</td>\n",
       "      <td>Y</td>\n",
       "    </tr>\n",
       "    <tr>\n",
       "      <th>E00181</th>\n",
       "      <td>나사장</td>\n",
       "      <td>F</td>\n",
       "      <td>NaN</td>\n",
       "      <td>P002</td>\n",
       "      <td>49</td>\n",
       "      <td>24</td>\n",
       "      <td>박사 학위</td>\n",
       "      <td>4.60</td>\n",
       "      <td>9500</td>\n",
       "      <td>2024-03-01</td>\n",
       "      <td>236</td>\n",
       "      <td>Project Management, Marketing</td>\n",
       "      <td>Y</td>\n",
       "      <td>2000-03-01</td>\n",
       "      <td>NaN</td>\n",
       "      <td>NaN</td>\n",
       "      <td>NaN</td>\n",
       "      <td>KOREA</td>\n",
       "      <td>Y</td>\n",
       "    </tr>\n",
       "    <tr>\n",
       "      <th>E00164</th>\n",
       "      <td>난부사장</td>\n",
       "      <td>M</td>\n",
       "      <td>NaN</td>\n",
       "      <td>P003</td>\n",
       "      <td>48</td>\n",
       "      <td>22</td>\n",
       "      <td>박사 학위</td>\n",
       "      <td>4.60</td>\n",
       "      <td>9100</td>\n",
       "      <td>2024-03-01</td>\n",
       "      <td>240</td>\n",
       "      <td>Salesforce, Data Analysis, Java</td>\n",
       "      <td>Y</td>\n",
       "      <td>2002-03-01</td>\n",
       "      <td>NaN</td>\n",
       "      <td>NaN</td>\n",
       "      <td>NaN</td>\n",
       "      <td>KOREA</td>\n",
       "      <td>Y</td>\n",
       "    </tr>\n",
       "    <tr>\n",
       "      <th>E00190</th>\n",
       "      <td>판라다</td>\n",
       "      <td>F</td>\n",
       "      <td>ORG007</td>\n",
       "      <td>P004</td>\n",
       "      <td>47</td>\n",
       "      <td>18</td>\n",
       "      <td>박사 학위</td>\n",
       "      <td>3.51</td>\n",
       "      <td>8500</td>\n",
       "      <td>2024-03-01</td>\n",
       "      <td>96</td>\n",
       "      <td>Java, Data Analysis, Salesforce</td>\n",
       "      <td>Y</td>\n",
       "      <td>2006-03-01</td>\n",
       "      <td>NaN</td>\n",
       "      <td>NaN</td>\n",
       "      <td>NaN</td>\n",
       "      <td>KOREA</td>\n",
       "      <td>Y</td>\n",
       "    </tr>\n",
       "    <tr>\n",
       "      <th>E00209</th>\n",
       "      <td>누훈봉</td>\n",
       "      <td>M</td>\n",
       "      <td>ORG023</td>\n",
       "      <td>P004</td>\n",
       "      <td>47</td>\n",
       "      <td>19</td>\n",
       "      <td>박사 학위</td>\n",
       "      <td>3.38</td>\n",
       "      <td>8600</td>\n",
       "      <td>2023-03-01</td>\n",
       "      <td>66</td>\n",
       "      <td>Java, Salesforce</td>\n",
       "      <td>Y</td>\n",
       "      <td>2005-03-01</td>\n",
       "      <td>NaN</td>\n",
       "      <td>NaN</td>\n",
       "      <td>NaN</td>\n",
       "      <td>KOREA</td>\n",
       "      <td>Y</td>\n",
       "    </tr>\n",
       "  </tbody>\n",
       "</table>\n",
       "</div>"
      ],
      "text/plain": [
       "       ENAME GENDER  ORG_CD POS_CD  AGE  SERVICE_YEAR EDU_LEVEL  \\\n",
       "EID                                                               \n",
       "E00206   시이오      M     NaN   P001   49            25     박사 학위   \n",
       "E00181   나사장      F     NaN   P002   49            24     박사 학위   \n",
       "E00164  난부사장      M     NaN   P003   48            22     박사 학위   \n",
       "E00190   판라다      F  ORG007   P004   47            18     박사 학위   \n",
       "E00209   누훈봉      M  ORG023   P004   47            19     박사 학위   \n",
       "\n",
       "        PERFORMANCE_SCORE  SALARY LAST_PROMO_DT  TRAINING_HOURS  \\\n",
       "EID                                                               \n",
       "E00206               4.50   10200    2024-03-01             240   \n",
       "E00181               4.60    9500    2024-03-01             236   \n",
       "E00164               4.60    9100    2024-03-01             240   \n",
       "E00190               3.51    8500    2024-03-01              96   \n",
       "E00209               3.38    8600    2023-03-01              66   \n",
       "\n",
       "                                 SKILLS ACTIVE_STATE   HIRE_DATE RETIRE_DATE  \\\n",
       "EID                                                                            \n",
       "E00206            Marketing, Salesforce            Y  1999-03-01         NaN   \n",
       "E00181    Project Management, Marketing            Y  2000-03-01         NaN   \n",
       "E00164  Salesforce, Data Analysis, Java            Y  2002-03-01         NaN   \n",
       "E00190  Java, Data Analysis, Salesforce            Y  2006-03-01         NaN   \n",
       "E00209                 Java, Salesforce            Y  2005-03-01         NaN   \n",
       "\n",
       "       RETIRE_REASON REHIRE_YN NATION ROUNDING_DEDUCTION  \n",
       "EID                                                       \n",
       "E00206           NaN       NaN  KOREA                  Y  \n",
       "E00181           NaN       NaN  KOREA                  Y  \n",
       "E00164           NaN       NaN  KOREA                  Y  \n",
       "E00190           NaN       NaN  KOREA                  Y  \n",
       "E00209           NaN       NaN  KOREA                  Y  "
      ]
     },
     "execution_count": 5,
     "metadata": {},
     "output_type": "execute_result"
    }
   ],
   "source": [
    "# 슬라이싱 해보기 row 5개의 모든 column의 values 가져오기  => 행 슬라이싱 \n",
    "data[0:5:1]  # default 값들은 알지? "
   ]
  },
  {
   "cell_type": "code",
   "execution_count": null,
   "id": "877efd5d",
   "metadata": {},
   "outputs": [],
   "source": [
    "# 슬라이싱 table 형식으로 가져오기 row 5개 ,column age까지 => table 형식으로 가져오려면 indexer 사용해야한다. \n",
    "# 이부분 내가 잘 모르네~~~~\n",
    "\n",
    "data.iloc[0:5, 0:5]"
   ]
  },
  {
   "cell_type": "code",
   "execution_count": null,
   "id": "f1c7eab0",
   "metadata": {},
   "outputs": [],
   "source": [
    "# dataframe 연산하기 \n",
    "# salary column을 월급으로 표현해보자.\n",
    "data[\"SALARY\"] # 연봉으로 되어있다.\n",
    "\n",
    "# 반올림 => round(소수점 자리수)\n",
    "data_month = (data[\"SALARY\"]/12).round(1)  \n",
    "data_month"
   ]
  },
  {
   "cell_type": "code",
   "execution_count": null,
   "id": "6f775309",
   "metadata": {},
   "outputs": [],
   "source": [
    "# Monthly pay => 월급 컬럼 추가하기\n",
    "data[\"MONTHLY_PAY\"] = data_month\n",
    "data"
   ]
  },
  {
   "cell_type": "code",
   "execution_count": null,
   "id": "5e674697",
   "metadata": {},
   "outputs": [],
   "source": [
    "upper_500 = data[data[\"MONTHLY_PAY\"] >= 500]\n",
    "upper_500"
   ]
  },
  {
   "cell_type": "code",
   "execution_count": 82,
   "id": "2308bd95",
   "metadata": {},
   "outputs": [],
   "source": [
    "# 입사 당시 나이\n",
    "data[\"AGE\"] = data[\"AGE\"].astype(int)  # 나이를 정수형으로 변환"
   ]
  },
  {
   "cell_type": "code",
   "execution_count": null,
   "id": "1607a249",
   "metadata": {},
   "outputs": [],
   "source": [
    "# 문자열 연산  = > df.str[:]\n",
    "# 학위에 따라 연봉의 평균을 구해보자! \n",
    "# EDU_LEVEL 컬럼에서 학위를 제거하기\n",
    "\n",
    "data\n",
    "# str은 table 형식으로만 슬라이싱이 되는거야? \n",
    "data.loc[ : , \"EDU_LEVEL\"]  # column을 하나만 지정하면 Series로 된다. \n",
    "\n",
    "\n",
    "data[\"EDU_LEVEL\"].str.replace(\" 학위\", \"\")\n",
    "\n",
    "# 변수에 저장하면서 update 하기\n",
    "data[\"EDU_LEVEL\"]= data[\"EDU_LEVEL\"].str.replace(\" 학위\", \"\")\n",
    "data\n"
   ]
  },
  {
   "cell_type": "code",
   "execution_count": null,
   "id": "b365ae66",
   "metadata": {},
   "outputs": [],
   "source": [
    "# groupby() 사용하기 => 그룹으로 묶어라 => aggregation  \n",
    "# 이해도 0 이네 \n",
    "data.groupby(by=\"EDU_LEVEL\").agg({\"SALARY\": \"mean\"})"
   ]
  }
 ],
 "metadata": {
  "kernelspec": {
   "display_name": "Python 3",
   "language": "python",
   "name": "python3"
  },
  "language_info": {
   "codemirror_mode": {
    "name": "ipython",
    "version": 3
   },
   "file_extension": ".py",
   "mimetype": "text/x-python",
   "name": "python",
   "nbconvert_exporter": "python",
   "pygments_lexer": "ipython3",
   "version": "3.13.5"
  }
 },
 "nbformat": 4,
 "nbformat_minor": 5
}
