{
 "cells": [
  {
   "cell_type": "code",
   "execution_count": 32,
   "id": "40596f6a",
   "metadata": {},
   "outputs": [],
   "source": [
    "from selenium import webdriver as wd \n",
    "from selenium.webdriver.common.by import By\n",
    "from selenium.webdriver.common.keys import Keys\n",
    "import time\n",
    "\n",
    "# 파일시스템을 위한 라이브러리(파일, 폴더를 생성하고 삭제하는 라이브러리)\n",
    "import os # 바탕화면에 폴더를 만들때 사용\n",
    "\n",
    "# 이미지의 링크를 파일로 변환하는 라이브러리 (retrieve : 회수하다. 다시찾다, 만회하다  )\n",
    "from urllib.request import urlretrieve\n"
   ]
  },
  {
   "cell_type": "code",
   "execution_count": 33,
   "id": "434f2d7a",
   "metadata": {},
   "outputs": [],
   "source": [
    "driver = wd.Chrome()\n",
    "driver.get(\"https://map.naver.com/p/\")"
   ]
  },
  {
   "cell_type": "code",
   "execution_count": 34,
   "id": "ec353b78",
   "metadata": {},
   "outputs": [],
   "source": [
    "# 네이버가 Crawling을 막기위해 난수생성한다. 따라서 우회해야한다. \n",
    "# input tag를 찾아서, selector  계층선택자로 잡으면된다 .  ID 없어도 돼 #input_search1753060752727 난수가 생성되므로 할 수 없다. \n",
    "# class로 시도해보고 안되면 계층선택자로 잡아야한다. \n",
    "# input tag에서 . class를 잡고 class명을 브라우저에서 찾아서 가져온다. 반드시 복붙하기.\n",
    "\n",
    "### 네이버는 선택자가 난수인 경우가 많다. 매번 변경된다.\n",
    "### 해결책 : 변하지 않는 구분자를 찾거나 계층 선택자를 활용하자. \n",
    "\n",
    "search = driver.find_element(By.CSS_SELECTOR, \"input.input_search\")\n",
    "search.send_keys(\"동명동맛집\")\n",
    "search.send_keys(Keys.ENTER)"
   ]
  },
  {
   "cell_type": "code",
   "execution_count": null,
   "id": "f369449b",
   "metadata": {},
   "outputs": [],
   "source": [
    "# 가게 이름을 클릭하고, 이름수집! \n",
    "# 상품을 클릭했을때 디테일한 정보를 수집! \n"
   ]
  },
  {
   "cell_type": "code",
   "execution_count": 35,
   "id": "823be692",
   "metadata": {},
   "outputs": [
    {
     "data": {
      "text/plain": [
       "[]"
      ]
     },
     "execution_count": 35,
     "metadata": {},
     "output_type": "execute_result"
    }
   ],
   "source": [
    "# step1 가게리스트 수집 => 클릭해서 디테일 정보 확인\n",
    "# 클릭 대상이 anchor tag나 button tag를 수집하자 \n",
    "# 선택자에는 문제가 없다. 데이터는 안나온다. ★★★★★IFRAME 이기 때문이다.★★★★★ => 원본데이터로 접근해라 \n",
    "# reqest는 url을 통해서 접근한것이고, selenium은 클릭이 불가능해. 왜냐 새로운 페이지기때문에. \n",
    "# 방법1 java script로 \n",
    "# 방법2 한페이지에  browser 2개가 떠있다.  2번browser로 이동시켜버리면된다.  selenium은 브라우저를 이동시켜 명령시킬 수 있다. \n",
    "# # iframe을 가져오는순간 원본은 사라진다. \n",
    "#  \n",
    "driver.find_elements(By.CSS_SELECTOR, \"#_pcmap_list_scroll_container > ul > li > div.CHC5F > div.bSoi3 > a\")\n",
    "\n"
   ]
  },
  {
   "cell_type": "markdown",
   "id": "9de8dc26",
   "metadata": {},
   "source": [
    "## 😤선택자에 문제가 없는데 수집이 불가능하다면 반드시 iframe을 의심해라.\n",
    "- 핵심 : selenium은 새로운 url로 접근하는게 아니고, 화면을 전환이 가능 ( 원본 => iframe)\n",
    "- 사용법 : driver에게 원하는 iframe으로 전환해 "
   ]
  },
  {
   "cell_type": "code",
   "execution_count": 36,
   "id": "8e404bb0",
   "metadata": {},
   "outputs": [],
   "source": [
    "search_iframe = driver.find_element(By.CSS_SELECTOR, \"#searchIframe\")"
   ]
  },
  {
   "cell_type": "code",
   "execution_count": 37,
   "id": "955c1bd4",
   "metadata": {},
   "outputs": [],
   "source": [
    "driver.switch_to.frame(search_iframe)"
   ]
  },
  {
   "cell_type": "code",
   "execution_count": 38,
   "id": "7cf8d7e4",
   "metadata": {},
   "outputs": [
    {
     "data": {
      "text/plain": [
       "[<selenium.webdriver.remote.webelement.WebElement (session=\"2ea333a531cd14c366a95c01953b0e69\", element=\"f.A52A27C9041E37752A018C9D488D8A63.d.E5DF9BA5FB8A29E8AF678316B33CF014.e.256\")>,\n",
       " <selenium.webdriver.remote.webelement.WebElement (session=\"2ea333a531cd14c366a95c01953b0e69\", element=\"f.A52A27C9041E37752A018C9D488D8A63.d.E5DF9BA5FB8A29E8AF678316B33CF014.e.257\")>,\n",
       " <selenium.webdriver.remote.webelement.WebElement (session=\"2ea333a531cd14c366a95c01953b0e69\", element=\"f.A52A27C9041E37752A018C9D488D8A63.d.E5DF9BA5FB8A29E8AF678316B33CF014.e.258\")>,\n",
       " <selenium.webdriver.remote.webelement.WebElement (session=\"2ea333a531cd14c366a95c01953b0e69\", element=\"f.A52A27C9041E37752A018C9D488D8A63.d.E5DF9BA5FB8A29E8AF678316B33CF014.e.259\")>,\n",
       " <selenium.webdriver.remote.webelement.WebElement (session=\"2ea333a531cd14c366a95c01953b0e69\", element=\"f.A52A27C9041E37752A018C9D488D8A63.d.E5DF9BA5FB8A29E8AF678316B33CF014.e.260\")>,\n",
       " <selenium.webdriver.remote.webelement.WebElement (session=\"2ea333a531cd14c366a95c01953b0e69\", element=\"f.A52A27C9041E37752A018C9D488D8A63.d.E5DF9BA5FB8A29E8AF678316B33CF014.e.261\")>,\n",
       " <selenium.webdriver.remote.webelement.WebElement (session=\"2ea333a531cd14c366a95c01953b0e69\", element=\"f.A52A27C9041E37752A018C9D488D8A63.d.E5DF9BA5FB8A29E8AF678316B33CF014.e.262\")>,\n",
       " <selenium.webdriver.remote.webelement.WebElement (session=\"2ea333a531cd14c366a95c01953b0e69\", element=\"f.A52A27C9041E37752A018C9D488D8A63.d.E5DF9BA5FB8A29E8AF678316B33CF014.e.263\")>,\n",
       " <selenium.webdriver.remote.webelement.WebElement (session=\"2ea333a531cd14c366a95c01953b0e69\", element=\"f.A52A27C9041E37752A018C9D488D8A63.d.E5DF9BA5FB8A29E8AF678316B33CF014.e.264\")>,\n",
       " <selenium.webdriver.remote.webelement.WebElement (session=\"2ea333a531cd14c366a95c01953b0e69\", element=\"f.A52A27C9041E37752A018C9D488D8A63.d.E5DF9BA5FB8A29E8AF678316B33CF014.e.265\")>]"
      ]
     },
     "execution_count": 38,
     "metadata": {},
     "output_type": "execute_result"
    }
   ],
   "source": [
    "title = driver.find_elements(By.CSS_SELECTOR, \"#_pcmap_list_scroll_container > ul > li > div.CHC5F > div.bSoi3 > a\")\n",
    "title"
   ]
  },
  {
   "cell_type": "code",
   "execution_count": 39,
   "id": "9f258d6c",
   "metadata": {},
   "outputs": [],
   "source": [
    "# 첫번째 가게 클릭\n",
    "title[0].click()"
   ]
  },
  {
   "cell_type": "code",
   "execution_count": 40,
   "id": "57d39583",
   "metadata": {},
   "outputs": [],
   "source": [
    "\n",
    "\n",
    "# 디테일 정보에서 가게이름 수집\n",
    "# browser가 3개가 떠있는것이다 iframe이 하나더 생겨있는구조다. \n",
    "# 지도가 1차, 맛집검색이 2차, 가게이름 detail이 3차로 떠있는구조다. \n",
    "# 모바일버전을 먼저만들고 웹에서 가져와버린다. 재사용성이 좋아진다. 크롤링도 예방한다. \n",
    "# 문제점 : iframe에서 다른 iframe으로 이동 => depth가 있는구조다 \n",
    "# 문제점2 : 1번 iframe과 2번 iframe은 서로 모르는 사이\n",
    "# 해결책 : 모두를 알고 있는 원본에게 이동후 => 새롭게 iframe으로 전환이 필요하다. \n",
    "\n",
    "# 원본에서 모든것을 진행하자 \n",
    "# 원본은 한개밖에 없기때문에 parameter는 비워둔다. \n",
    "driver.switch_to.default_content()\n",
    "\n",
    "\n"
   ]
  },
  {
   "cell_type": "code",
   "execution_count": 43,
   "id": "e90cbc48",
   "metadata": {},
   "outputs": [],
   "source": [
    "# 이제는 frame간의 이동이 되었다.\n",
    "entry_iframe = driver.find_element(By.CSS_SELECTOR,\"#entryIframe\")\n"
   ]
  },
  {
   "cell_type": "code",
   "execution_count": null,
   "id": "e949eda6",
   "metadata": {},
   "outputs": [],
   "source": [
    "# frame으로 이동해라.\n",
    "driver.switch_to.frame(entry_iframe)"
   ]
  },
  {
   "cell_type": "code",
   "execution_count": 47,
   "id": "f9b393eb",
   "metadata": {},
   "outputs": [
    {
     "data": {
      "text/plain": [
       "'연어쁘다 광주본점'"
      ]
     },
     "execution_count": 47,
     "metadata": {},
     "output_type": "execute_result"
    }
   ],
   "source": [
    "# 디테일 정보를 수집하라.   \n",
    "driver.find_element(By.CSS_SELECTOR, \"#_title > div > span.GHAhO\")\n",
    "\n",
    "# 가게 이름을 수집하라. \n",
    "driver.find_element(By.CSS_SELECTOR, \"#_title > div > span.GHAhO\").text"
   ]
  },
  {
   "cell_type": "code",
   "execution_count": null,
   "id": "6f677808",
   "metadata": {},
   "outputs": [
    {
     "data": {
      "text/plain": [
       "['왕산식당 동명점\\n쿠폰\\n중식당',\n",
       " '멘지 광주동명점일본식라면',\n",
       " '올데이우동 동명점\\n톡톡\\n쿠폰\\n우동,소바',\n",
       " '정희 동명점한식',\n",
       " '송경솥밥\\n쿠폰\\n한식',\n",
       " '사월의파랑\\n네이버페이\\n주문\\n배달\\n쿠폰\\n카페,디저트',\n",
       " '왕산식당 동명점\\n쿠폰\\n중식당',\n",
       " '싱푸미엔관 동명점중식당',\n",
       " '소바 쿄다이\\n톡톡\\n쿠폰\\n일식당',\n",
       " '네이비소셜클럽카페,디저트']"
      ]
     },
     "metadata": {},
     "output_type": "display_data"
    }
   ],
   "source": [
    "## 리스트에 답는거!! 추후에할일! \n",
    "\n",
    "title_list = []\n",
    "for i in title:\n",
    "    title_list.append(i.text)\n",
    "\n",
    "\n",
    "display(title_list)\n"
   ]
  },
  {
   "cell_type": "markdown",
   "id": "9dd5e2ca",
   "metadata": {},
   "source": [
    "# 이번 실습 정리\n",
    "- 선택자가 문제가 없는데 수집이 안되면 반드시 iframe을 의심해라.\n",
    "- 원본에서 특정 iframe으로 이동하려면 => driver.switch_to.frame(\"iframe의 선택자\")\n",
    "- 포인트 : iframe에서 다른 iframe으로 바로 이동은 불가능(대부분 iframe 태그 안에 iframe태그를 넣지 않는다. )\n",
    "- 해결책: 모두를 알고 있는 원본 데이터로 이동=> driver.switch_to.default_content(|) 원본은 한개밖에 없기때문에 parameter 없이 사용\n",
    "- 네이버지도예시\n",
    "   - 1) 원본데이터 => 1번 iframe으로 이동\n",
    "   - 2) 1번 iframe의 가게이름을 클릭\n",
    "   - 3) 1번 iframe에서 원본으로 이동\n",
    "   - 4) 원본데이터 => 2번 iframe으로 이동\n",
    "   - 5) 데이터 수집\n",
    "   - 6) 2번 iframe에서 원본으로 이동\n",
    "- iframe이 많을경우 crawling을 포기하자!    "
   ]
  }
 ],
 "metadata": {
  "kernelspec": {
   "display_name": "Python 3",
   "language": "python",
   "name": "python3"
  },
  "language_info": {
   "codemirror_mode": {
    "name": "ipython",
    "version": 3
   },
   "file_extension": ".py",
   "mimetype": "text/x-python",
   "name": "python",
   "nbconvert_exporter": "python",
   "pygments_lexer": "ipython3",
   "version": "3.13.5"
  }
 },
 "nbformat": 4,
 "nbformat_minor": 5
}
