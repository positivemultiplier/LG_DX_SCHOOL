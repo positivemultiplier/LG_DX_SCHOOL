{
 "cells": [
  {
   "cell_type": "markdown",
   "id": "a469af56",
   "metadata": {},
   "source": [
    "# 멜론사이트에서 인기 100곡 순위 수집하기.\n",
    "- req 요청하고, res로 응답받기\n",
    "- bs4로 html 파싱하기\n",
    "- 제목과 href 추출하기\n",
    "- 데이터프레임으로 만들기"
   ]
  },
  {
   "cell_type": "code",
   "execution_count": 1,
   "id": "4d516e5b",
   "metadata": {},
   "outputs": [],
   "source": [
    "# 주요 라이브러리 import\n",
    "import requests as req\n",
    "from bs4 import BeautifulSoup as bs\n"
   ]
  },
  {
   "cell_type": "code",
   "execution_count": 2,
   "id": "1fd32d78",
   "metadata": {},
   "outputs": [
    {
     "data": {
      "text/plain": [
       "<Response [406]>"
      ]
     },
     "execution_count": 2,
     "metadata": {},
     "output_type": "execute_result"
    }
   ],
   "source": [
    "# 1-1 사이트 요청하기\n",
    "req.get(\"https://www.melon.com/chart/\")\n",
    "# respose 406 오류 발생 client error"
   ]
  },
  {
   "cell_type": "code",
   "execution_count": null,
   "id": "7d371ca2",
   "metadata": {},
   "outputs": [],
   "source": [
    "# 1-2 사이트 요청하기(브라우저 아님을 멜론에서 검증해서 406 클라이언트 차단해버림)\n",
    "# 브라우저인것처럼 속여버리는방법 \n",
    "# 문제점 : 406응답이 넘어온다 => 요청의 문제\n",
    "# 현재 접근하는 환경이 브라우저가 아니고, 파이썬 환경\n",
    "# 해결책 : 브라우저 인증정보는 network 탭에서 확인할 수 있다. \n",
    "# chart/headers 탭에서 확인해서 뭔가를 해야한데 \n",
    "# user-agent값을 넣어야한다. user-agent Mozilla/5.0 (Windows NT 10.0; Win64; x64) AppleWebKit/537.36 (KHTML, like Gecko) Chrome/138.0.0.0 Safari/537.36\n",
    "# mobile과 web을 구분해서 요청해야한다. mobile은 요청이 안된다고한다. \n",
    "# dict 타입으로 바꿔서 python이 인식할 수 있도록 만들어야한다. \n",
    "# browser 변수에 담아주자 . \n",
    "# {\"user-agent\": \"Mozilla/5.0 (Windows NT 10.0; Win64; x64) AppleWebKit/537.36 (KHTML, like Gecko) Chrome/138.0.0.0 Safari/537.36\"}\n",
    "\n",
    "browser = {\"user-agent\": \"Mozilla/5.0 (Windows NT 10.0; Win64; x64) AppleWebKit/537.36 (KHTML, like Gecko) Chrome/138.0.0.0 Safari/537.36\"}\n",
    "\n",
    "\n",
    "\n"
   ]
  },
  {
   "cell_type": "code",
   "execution_count": null,
   "id": "97d596cf",
   "metadata": {},
   "outputs": [
    {
     "data": {
      "text/plain": [
       "<Response [200]>"
      ]
     },
     "execution_count": 7,
     "metadata": {},
     "output_type": "execute_result"
    }
   ],
   "source": [
    "# 다시 request 보내기\n",
    "# headers에 browser를 넣어서 요청하기 headers = browser 인증정보 넣어서 보내기. server가 브라우저로 인식하게끔\n",
    "# req도 안되는 경우가 있다. 다른 library를 사용해야한다. 셀레늄이라는 라이브러리를 사용하면 브라우저를 띄워서 요청할 수 있다.\n",
    "# 어떤 라이브러리? \n",
    "# 406 응답이 나온다면, 반드시 headers 공간에 브라우저 정보를 담아서 재요청\n",
    "req.get(\"https://www.melon.com/chart/\", headers = browser)\n"
   ]
  },
  {
   "cell_type": "code",
   "execution_count": null,
   "id": "c67dc7d1",
   "metadata": {},
   "outputs": [],
   "source": [
    "# 가수이름, 노래제목 수집\n",
    "# 핵심포인트 => 선택자 분석하는 법"
   ]
  }
 ],
 "metadata": {
  "kernelspec": {
   "display_name": "Python 3",
   "language": "python",
   "name": "python3"
  },
  "language_info": {
   "codemirror_mode": {
    "name": "ipython",
    "version": 3
   },
   "file_extension": ".py",
   "mimetype": "text/x-python",
   "name": "python",
   "nbconvert_exporter": "python",
   "pygments_lexer": "ipython3",
   "version": "3.13.5"
  }
 },
 "nbformat": 4,
 "nbformat_minor": 5
}
